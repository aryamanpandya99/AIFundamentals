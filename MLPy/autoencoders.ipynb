{
  "cells": [
    {
      "cell_type": "markdown",
      "metadata": {
        "id": "view-in-github",
        "colab_type": "text"
      },
      "source": [
        "<a href=\"https://colab.research.google.com/github/aryamanpandya99/AIFundamentals/blob/master/MLPy/autoencoders.ipynb\" target=\"_parent\"><img src=\"https://colab.research.google.com/assets/colab-badge.svg\" alt=\"Open In Colab\"/></a>"
      ]
    },
    {
      "cell_type": "markdown",
      "metadata": {
        "id": "s-m2-9v6kcbh"
      },
      "source": [
        "# Autoencoders\n",
        "\n",
        "By definition, an autoencoder is a neural network trained to downsize then reconstruct its input data from a latent representation. A convolutional autoencoder uses a CNN encoder to compress the input into the a latent representation and a deconvolutional (transposed convolution) decoder to reconstruct the input from the latent representation."
      ]
    },
    {
      "cell_type": "code",
      "execution_count": 222,
      "metadata": {
        "colab": {
          "base_uri": "https://localhost:8080/"
        },
        "id": "zDHWFdpKk0py",
        "outputId": "4fff9bdc-7685-46b0-a94e-a20d3cfb5199"
      },
      "outputs": [
        {
          "output_type": "stream",
          "name": "stdout",
          "text": [
            "Drive already mounted at /content/drive; to attempt to forcibly remount, call drive.mount(\"/content/drive\", force_remount=True).\n"
          ]
        }
      ],
      "source": [
        "from google.colab import drive\n",
        "drive.mount('/content/drive')"
      ]
    },
    {
      "cell_type": "code",
      "execution_count": 223,
      "metadata": {
        "id": "ppJ9ovuukcbm"
      },
      "outputs": [],
      "source": [
        "import pickle, gzip, math, os, time, shutil, torch, matplotlib.pyplot as plt, numpy as np"
      ]
    },
    {
      "cell_type": "code",
      "execution_count": 224,
      "metadata": {
        "id": "l0EqXUj-kcbn"
      },
      "outputs": [],
      "source": [
        "import pandas as pd\n",
        "import pathlib as Path\n",
        "from torch.utils.data import DataLoader, default_collate, Dataset\n",
        "from typing import Mapping"
      ]
    },
    {
      "cell_type": "code",
      "source": [
        "device = torch.device('cuda') if torch.cuda.is_available() else torch.device('cpu')"
      ],
      "metadata": {
        "id": "WTdtUSdzhje3"
      },
      "execution_count": 225,
      "outputs": []
    },
    {
      "cell_type": "code",
      "execution_count": 226,
      "metadata": {
        "id": "HOyrxuLYkcbn"
      },
      "outputs": [],
      "source": [
        "all_batches_data = []\n",
        "all_batches_labels = []\n",
        "\n",
        "for i in range(1, 6):\n",
        "    with open(f'/content/drive/MyDrive/data/cifar-10-batches-py/data_batch_{i}', 'rb') as f:\n",
        "        dataset_dict = pickle.load(f, encoding='bytes')\n",
        "        all_batches_data.append(dataset_dict[b'data'])\n",
        "        all_batches_labels.append(dataset_dict[b'labels'])\n",
        "\n",
        "stacked_data = np.vstack(all_batches_data)\n",
        "stacked_labels = np.hstack(all_batches_labels)"
      ]
    },
    {
      "cell_type": "code",
      "execution_count": 227,
      "metadata": {
        "colab": {
          "base_uri": "https://localhost:8080/"
        },
        "id": "fcehUJ6Ekcbq",
        "outputId": "c3aeed2d-8d31-4d32-f1e1-4c11ef6aab36"
      },
      "outputs": [
        {
          "output_type": "stream",
          "name": "stdout",
          "text": [
            "Training data shape: torch.Size([40000, 3, 32, 32])\n",
            "Training labels shape: torch.Size([40000])\n",
            "Validation data shape: torch.Size([10000, 3, 32, 32])\n",
            "Validation labels shape: torch.Size([10000])\n"
          ]
        }
      ],
      "source": [
        "data = torch.tensor(stacked_data, dtype=torch.float32).view(-1, 3, 32, 32).to(device) / 255.\n",
        "labels = torch.tensor(stacked_labels, dtype=torch.long).to(device)\n",
        "\n",
        "split_idx = int(0.8 * len(data))\n",
        "\n",
        "x_train, x_valid = data[:split_idx], data[split_idx:]\n",
        "y_train, y_valid = labels[:split_idx], labels[split_idx:]\n",
        "\n",
        "print(\"Training data shape:\", x_train.shape)\n",
        "print(\"Training labels shape:\", y_train.shape)\n",
        "\n",
        "print(\"Validation data shape:\", x_valid.shape)\n",
        "print(\"Validation labels shape:\", y_valid.shape)"
      ]
    },
    {
      "cell_type": "code",
      "execution_count": 228,
      "metadata": {
        "colab": {
          "base_uri": "https://localhost:8080/"
        },
        "id": "iGGXFZY9kcbr",
        "outputId": "c3131137-554a-4d58-8ab7-f69da7297a88"
      },
      "outputs": [
        {
          "output_type": "execute_result",
          "data": {
            "text/plain": [
              "tensor([[-0.0204, -0.0410, -0.0237,  0.0080, -0.0320, -0.0932,  0.0237,  0.0222,\n",
              "          0.0039, -0.0525]], device='cuda:0', grad_fn=<ViewBackward0>)"
            ]
          },
          "metadata": {},
          "execution_count": 228
        }
      ],
      "source": [
        "# sample cnn\n",
        "from torch import nn\n",
        "\n",
        "simple_cnn = nn.Sequential(\n",
        "    nn.Conv2d(3, 4, kernel_size=3, stride=2, padding=1),    # 14x14x4\n",
        "    nn.ReLU(),\n",
        "    nn.Conv2d(4, 8, kernel_size=3, stride=2, padding=1),    # 7x7x8\n",
        "    nn.ReLU(),\n",
        "    nn.Conv2d(8, 16, kernel_size=3, stride=2, padding=1),    # 4x4x16\n",
        "    nn.ReLU(),\n",
        "    nn.Conv2d(16, 16, kernel_size=3, stride=2, padding=1),    # 2x2x16\n",
        "    nn.ReLU(),\n",
        "    nn.Conv2d(16, 10, kernel_size=3, stride=2, padding=1),    # 1x1x10\n",
        "    nn.Flatten(),\n",
        ").to(device)\n",
        "\n",
        "simple_cnn(x_train[0].unsqueeze(0))"
      ]
    },
    {
      "cell_type": "code",
      "execution_count": 229,
      "metadata": {
        "id": "jytjAN-Akcbr"
      },
      "outputs": [],
      "source": [
        "def show_torch_image(img):\n",
        "    img = img.permute(1, 2, 0)\n",
        "    img = img.numpy().astype(np.uint8)\n",
        "\n",
        "    plt.imshow(img)\n",
        "    plt.axis('off')\n",
        "    plt.show()"
      ]
    },
    {
      "cell_type": "code",
      "execution_count": 230,
      "metadata": {
        "colab": {
          "base_uri": "https://localhost:8080/",
          "height": 406
        },
        "id": "zg5oytl_kcbs",
        "outputId": "5e36f187-bafd-4ead-924f-676a9d3f069e"
      },
      "outputs": [
        {
          "output_type": "display_data",
          "data": {
            "text/plain": [
              "<Figure size 640x480 with 1 Axes>"
            ],
            "image/png": "[encoded data removed]"
          },
          "metadata": {}
        }
      ],
      "source": [
        "show_torch_image(255 * x_train[13].cpu())"
      ]
    },
    {
      "cell_type": "code",
      "execution_count": 231,
      "metadata": {
        "id": "PIvCLjmmkcbs"
      },
      "outputs": [],
      "source": [
        "class ConvolutionalAutoencoder(nn.Module):\n",
        "    def __init__(self):\n",
        "        super().__init__()\n",
        "        self.encoder = nn.Sequential(\n",
        "            nn.Conv2d(3, 96, kernel_size=3, stride=2, padding=1),\n",
        "            nn.ReLU(),\n",
        "            nn.Conv2d(96, 192, kernel_size=3, stride=2, padding=1),\n",
        "            nn.ReLU(),\n",
        "            nn.Conv2d(192, 384, kernel_size=3, stride=2, padding=1),\n",
        "            nn.ReLU(),\n",
        "        )\n",
        "        self.decoder = nn.Sequential(\n",
        "            nn.ConvTranspose2d(384, 192, kernel_size=3, stride=2, padding=1, output_padding=1),\n",
        "            nn.ReLU(),\n",
        "            nn.ConvTranspose2d(192, 96, kernel_size=3, stride=2, padding=1, output_padding=1),\n",
        "            nn.ReLU(),\n",
        "            nn.ConvTranspose2d(96, 3, kernel_size=3, stride=2, padding=1, output_padding=1),\n",
        "            nn.Sigmoid(),\n",
        "        )\n",
        "\n",
        "    def forward(self, x):\n",
        "        encoded = self.encoder(x)\n",
        "        return self.decoder(encoded)"
      ]
    },
    {
      "cell_type": "code",
      "execution_count": 232,
      "metadata": {
        "id": "TUnlsePakcbs"
      },
      "outputs": [],
      "source": [
        "def validate(model, loss_func, valid_dl):\n",
        "    model.eval()\n",
        "    with torch.no_grad():\n",
        "        tot_loss = 0.\n",
        "        count = 0\n",
        "        for xb, _ in valid_dl:\n",
        "            pred = model(xb)\n",
        "            loss = loss_func(pred, xb)\n",
        "            tot_loss += loss.item()\n",
        "            count += len(xb)\n",
        "    return tot_loss / count\n",
        "\n",
        "def fit(epochs, model, loss_func, opt, train_dl, valid_dl):\n",
        "    for epoch in range(epochs):\n",
        "        print(f\"Epoch {epoch+1}/{epochs}\")\n",
        "        model.train()\n",
        "        for xb,yb in train_dl:\n",
        "            pred = model(xb)\n",
        "            loss = loss_func(pred, xb)\n",
        "            loss.backward()\n",
        "            opt.step()\n",
        "            opt.zero_grad()\n",
        "\n",
        "        tot_loss_count = validate(model, loss_func, valid_dl)\n",
        "        print(f\"Validation loss: {tot_loss_count}\")"
      ]
    },
    {
      "cell_type": "code",
      "execution_count": 233,
      "metadata": {
        "id": "vtzoZs_qkcbs"
      },
      "outputs": [],
      "source": [
        "class CIFARCustomDataset(Dataset):\n",
        "    def __init__(self, x, y):\n",
        "        self.x = x\n",
        "        self.y = y\n",
        "\n",
        "    def __len__(self):\n",
        "        return len(self.x)\n",
        "\n",
        "    def __getitem__(self, idx):\n",
        "        return self.x[idx], self.y[idx]"
      ]
    },
    {
      "cell_type": "code",
      "execution_count": 234,
      "metadata": {
        "id": "chPrqHGrkcbs"
      },
      "outputs": [],
      "source": [
        "train_ds = CIFARCustomDataset(x_train, y_train)\n",
        "valid_ds = CIFARCustomDataset(x_valid, y_valid)\n",
        "\n",
        "train_dl = DataLoader(train_ds, batch_size=32, shuffle=True)\n",
        "valid_dl = DataLoader(valid_ds, batch_size=32, shuffle=True)"
      ]
    },
    {
      "cell_type": "code",
      "execution_count": 235,
      "metadata": {
        "colab": {
          "base_uri": "https://localhost:8080/"
        },
        "id": "9BwgBY9Tkcbs",
        "outputId": "3be197f0-d4de-466e-fc12-bac6be19032b"
      },
      "outputs": [
        {
          "output_type": "stream",
          "name": "stdout",
          "text": [
            "40000\n"
          ]
        }
      ],
      "source": [
        "print(len(train_ds))"
      ]
    },
    {
      "cell_type": "code",
      "execution_count": 236,
      "metadata": {
        "colab": {
          "base_uri": "https://localhost:8080/"
        },
        "id": "HeBLBIyPkcbt",
        "outputId": "c58aab21-ca30-4d1b-9e9d-97626b1a66db"
      },
      "outputs": [
        {
          "output_type": "stream",
          "name": "stdout",
          "text": [
            "torch.Size([32, 3, 32, 32])\n",
            "torch.Size([32])\n"
          ]
        }
      ],
      "source": [
        "print(next(iter(train_dl))[0].shape)\n",
        "print(next(iter(train_dl))[1].shape)"
      ]
    },
    {
      "cell_type": "code",
      "execution_count": 240,
      "metadata": {
        "id": "ZeQ8wohmlr23"
      },
      "outputs": [],
      "source": [
        "model = ConvolutionalAutoencoder()\n",
        "loss_func = nn.MSELoss()\n",
        "opt = torch.optim.Adam(model.parameters(), lr=0.001)"
      ]
    },
    {
      "cell_type": "code",
      "execution_count": 241,
      "metadata": {
        "colab": {
          "base_uri": "https://localhost:8080/"
        },
        "id": "ZNX95wMHnUrM",
        "outputId": "7cb07c47-8ef2-453f-ff31-9820eaa7a7e9"
      },
      "outputs": [
        {
          "output_type": "execute_result",
          "data": {
            "text/plain": [
              "ConvolutionalAutoencoder(\n",
              "  (encoder): Sequential(\n",
              "    (0): Conv2d(3, 96, kernel_size=(3, 3), stride=(2, 2), padding=(1, 1))\n",
              "    (1): ReLU()\n",
              "    (2): Conv2d(96, 192, kernel_size=(3, 3), stride=(2, 2), padding=(1, 1))\n",
              "    (3): ReLU()\n",
              "    (4): Conv2d(192, 384, kernel_size=(3, 3), stride=(2, 2), padding=(1, 1))\n",
              "    (5): ReLU()\n",
              "  )\n",
              "  (decoder): Sequential(\n",
              "    (0): ConvTranspose2d(384, 192, kernel_size=(3, 3), stride=(2, 2), padding=(1, 1), output_padding=(1, 1))\n",
              "    (1): ReLU()\n",
              "    (2): ConvTranspose2d(192, 96, kernel_size=(3, 3), stride=(2, 2), padding=(1, 1), output_padding=(1, 1))\n",
              "    (3): ReLU()\n",
              "    (4): ConvTranspose2d(96, 3, kernel_size=(3, 3), stride=(2, 2), padding=(1, 1), output_padding=(1, 1))\n",
              "    (5): Sigmoid()\n",
              "  )\n",
              ")"
            ]
          },
          "metadata": {},
          "execution_count": 241
        }
      ],
      "source": [
        "model.to(device)"
      ]
    },
    {
      "cell_type": "code",
      "execution_count": 242,
      "metadata": {
        "id": "8ba_5Yplkcbt",
        "colab": {
          "base_uri": "https://localhost:8080/"
        },
        "outputId": "985a1a8a-a42b-4ef9-ff55-adacc2f294b1"
      },
      "outputs": [
        {
          "output_type": "stream",
          "name": "stdout",
          "text": [
            "Epoch 1/10\n",
            "Validation loss: 5.90003252029419e-05\n",
            "Epoch 2/10\n",
            "Validation loss: 4.6591542463283984e-05\n",
            "Epoch 3/10\n",
            "Validation loss: 2.5289219472324474e-05\n",
            "Epoch 4/10\n",
            "Validation loss: 2.2088042862014843e-05\n",
            "Epoch 5/10\n",
            "Validation loss: 1.6518390717101285e-05\n",
            "Epoch 6/10\n",
            "Validation loss: 1.5600932709639893e-05\n",
            "Epoch 7/10\n",
            "Validation loss: 1.4579374284949153e-05\n",
            "Epoch 8/10\n",
            "Validation loss: 2.0313009328674525e-05\n",
            "Epoch 9/10\n",
            "Validation loss: 1.1069578683236614e-05\n",
            "Epoch 10/10\n",
            "Validation loss: 1.2973952916217968e-05\n"
          ]
        }
      ],
      "source": [
        "fit(10, model, loss_func, opt, train_dl, valid_dl)"
      ]
    },
    {
      "cell_type": "code",
      "execution_count": 243,
      "metadata": {
        "id": "7YunZ90lluJM",
        "colab": {
          "base_uri": "https://localhost:8080/",
          "height": 812
        },
        "outputId": "a44a652b-e2fc-4d93-8fe1-5fe9ac2d075b"
      },
      "outputs": [
        {
          "output_type": "stream",
          "name": "stdout",
          "text": [
            "torch.Size([1, 3, 32, 32])\n"
          ]
        },
        {
          "output_type": "display_data",
          "data": {
            "text/plain": [
              "<Figure size 640x480 with 1 Axes>"
            ],
            "image/png": "[encoded data removed]"
          },
          "metadata": {}
        },
        {
          "output_type": "display_data",
          "data": {
            "text/plain": [
              "<Figure size 640x480 with 1 Axes>"
            ],
            "image/png": "[encoded data removed]"
          },
          "metadata": {}
        }
      ],
      "source": [
        "sample_output = model(x_train[0].unsqueeze(0))\n",
        "print(sample_output.shape)\n",
        "show_torch_image(255*sample_output.squeeze(0).detach().cpu())\n",
        "show_torch_image(255 * x_train[0].cpu())"
      ]
    },
    {
      "cell_type": "code",
      "source": [
        "opt = torch.optim.Adam(model.parameters(), lr=0.0001)\n",
        "fit(20, model, loss_func, opt, train_dl, valid_dl)"
      ],
      "metadata": {
        "colab": {
          "base_uri": "https://localhost:8080/"
        },
        "id": "vbYpjtnJibGz",
        "outputId": "c1e642dd-e1ce-49b0-a3af-78e9b93139d4"
      },
      "execution_count": 244,
      "outputs": [
        {
          "output_type": "stream",
          "name": "stdout",
          "text": [
            "Epoch 1/20\n",
            "Validation loss: 6.446610784041696e-06\n",
            "Epoch 2/20\n",
            "Validation loss: 6.0762447450542825e-06\n",
            "Epoch 3/20\n",
            "Validation loss: 5.838252320245374e-06\n",
            "Epoch 4/20\n",
            "Validation loss: 5.598848758381791e-06\n",
            "Epoch 5/20\n",
            "Validation loss: 5.441621389763895e-06\n",
            "Epoch 6/20\n",
            "Validation loss: 5.2292217471404e-06\n",
            "Epoch 7/20\n",
            "Validation loss: 5.086233666952467e-06\n",
            "Epoch 8/20\n",
            "Validation loss: 4.938807135476964e-06\n",
            "Epoch 9/20\n",
            "Validation loss: 4.7944120560714505e-06\n",
            "Epoch 10/20\n",
            "Validation loss: 4.68369249792886e-06\n",
            "Epoch 11/20\n",
            "Validation loss: 4.575183577253483e-06\n",
            "Epoch 12/20\n",
            "Validation loss: 4.492872035916662e-06\n",
            "Epoch 13/20\n",
            "Validation loss: 4.351357249834109e-06\n",
            "Epoch 14/20\n",
            "Validation loss: 4.2605099610227625e-06\n",
            "Epoch 15/20\n",
            "Validation loss: 4.15961439939565e-06\n",
            "Epoch 16/20\n",
            "Validation loss: 4.074123749887803e-06\n",
            "Epoch 17/20\n",
            "Validation loss: 3.981146121805068e-06\n",
            "Epoch 18/20\n",
            "Validation loss: 3.919147206761409e-06\n",
            "Epoch 19/20\n",
            "Validation loss: 3.824653819174273e-06\n",
            "Epoch 20/20\n",
            "Validation loss: 3.82086462850566e-06\n"
          ]
        }
      ]
    },
    {
      "cell_type": "code",
      "source": [
        "with torch.no_grad():\n",
        "    sample_output = model(x_train[0].unsqueeze(0))\n",
        "    show_torch_image(255*sample_output.squeeze(0).detach().cpu())\n",
        "    show_torch_image(255 * x_train[0].cpu())"
      ],
      "metadata": {
        "colab": {
          "base_uri": "https://localhost:8080/",
          "height": 795
        },
        "id": "xRg2F5C6iuzg",
        "outputId": "27e6911f-f1ed-4f81-d9e1-34587daaafd5"
      },
      "execution_count": 247,
      "outputs": [
        {
          "output_type": "display_data",
          "data": {
            "text/plain": [
              "<Figure size 640x480 with 1 Axes>"
            ],
            "image/png": "[encoded data removed]"
          },
          "metadata": {}
        },
        {
          "output_type": "display_data",
          "data": {
            "text/plain": [
              "<Figure size 640x480 with 1 Axes>"
            ],
            "image/png": "[encoded data removed]"
          },
          "metadata": {}
        }
      ]
    },
    {
      "cell_type": "markdown",
      "source": [
        "## Observations\n",
        "\n",
        "1. The more we compress with the encoder, the harder it gets to decode with the decoder. This makes sense intuitively, but still needed to be observed practically.\n",
        "\n",
        "2. A learning rate decay helped marginally, but not substantially. In the above implementation, we might want to try out different tricks to improve model performance (like batch norm, dropout)\n",
        "\n",
        "3. At first, we only trained our model with 10000 images. For 32x32x3 sized images, this is relatively low. Including images from other batches showed an improvement in the fidelity of the output, and a reduction in the loss. This too, however, seems marginal.\n",
        "\n",
        "4. Additional non-compressive layers don't seem to help given the current dataset size constraints.\n",
        "\n",
        "5. Increasing model width (by way of increasing number of kernels per conv layer) led to a significant improvement in performance.\n"
      ],
      "metadata": {
        "id": "8m6u9QfViSBA"
      }
    }
  ],
  "metadata": {
    "colab": {
      "provenance": [],
      "gpuType": "T4",
      "include_colab_link": true
    },
    "kernelspec": {
      "display_name": "Python 3",
      "name": "python3"
    },
    "language_info": {
      "codemirror_mode": {
        "name": "ipython",
        "version": 3
      },
      "file_extension": ".py",
      "mimetype": "text/x-python",
      "name": "python",
      "nbconvert_exporter": "python",
      "pygments_lexer": "ipython3",
      "version": "3.10.14"
    },
    "accelerator": "GPU"
  },
  "nbformat": 4,
  "nbformat_minor": 0
}