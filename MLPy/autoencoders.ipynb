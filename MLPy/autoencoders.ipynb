{
  "cells": [
    {
      "cell_type": "markdown",
      "metadata": {
        "id": "view-in-github",
        "colab_type": "text"
      },
      "source": [
        "<a href=\"https://colab.research.google.com/github/aryamanpandya99/AIFundamentals/blob/master/MLPy/autoencoders.ipynb\" target=\"_parent\"><img src=\"https://colab.research.google.com/assets/colab-badge.svg\" alt=\"Open In Colab\"/></a>"
      ]
    },
    {
      "cell_type": "markdown",
      "metadata": {
        "id": "s-m2-9v6kcbh"
      },
      "source": [
        "# Autoencoders\n",
        "\n",
        "By Definition, an autoencoder is a neural network trained to downsize then reconstruct its input data from a latent representation. A convolutional autoencoder uses a CNN encoder to compress the input into the a latent representation and a deconvolutional (transposed convolution) decoder to reconstruct the input from the latent representation."
      ]
    },
    {
      "cell_type": "code",
      "source": [
        "from google.colab import drive\n",
        "drive.mount('/content/drive')"
      ],
      "metadata": {
        "colab": {
          "base_uri": "https://localhost:8080/"
        },
        "id": "zDHWFdpKk0py",
        "outputId": "3f531c93-2775-44f0-bcd4-7116f569aa77"
      },
      "execution_count": 174,
      "outputs": [
        {
          "output_type": "stream",
          "name": "stdout",
          "text": [
            "Drive already mounted at /content/drive; to attempt to forcibly remount, call drive.mount(\"/content/drive\", force_remount=True).\n"
          ]
        }
      ]
    },
    {
      "cell_type": "code",
      "execution_count": 175,
      "metadata": {
        "id": "ppJ9ovuukcbm"
      },
      "outputs": [],
      "source": [
        "import pickle, gzip, math, os, time, shutil, torch, matplotlib.pyplot as plt, numpy as np"
      ]
    },
    {
      "cell_type": "code",
      "execution_count": 176,
      "metadata": {
        "id": "l0EqXUj-kcbn"
      },
      "outputs": [],
      "source": [
        "import pandas as pd\n",
        "import pathlib as Path\n",
        "from torch.utils.data import DataLoader, default_collate, Dataset\n",
        "from typing import Mapping"
      ]
    },
    {
      "cell_type": "code",
      "source": [
        "device = torch.device('cuda') if torch.cuda.is_available() else torch.device('cpu')"
      ],
      "metadata": {
        "id": "ZNX95wMHnUrM"
      },
      "execution_count": 177,
      "outputs": []
    },
    {
      "cell_type": "code",
      "execution_count": 178,
      "metadata": {
        "id": "HOyrxuLYkcbn"
      },
      "outputs": [],
      "source": [
        "with open('/content/drive/MyDrive/data/cifar-10-batches-py/data_batch_1', 'rb') as f:\n",
        "    dataset_dict = pickle.load(f, encoding='bytes')"
      ]
    },
    {
      "cell_type": "code",
      "execution_count": 179,
      "metadata": {
        "colab": {
          "base_uri": "https://localhost:8080/"
        },
        "id": "yu_xJl9tkcbo",
        "outputId": "13ce5a28-c38f-47c8-f5e9-7c46e9213d55"
      },
      "outputs": [
        {
          "output_type": "execute_result",
          "data": {
            "text/plain": [
              "dict_keys([b'batch_label', b'labels', b'data', b'filenames'])"
            ]
          },
          "metadata": {},
          "execution_count": 179
        }
      ],
      "source": [
        "dataset_dict.keys()"
      ]
    },
    {
      "cell_type": "code",
      "execution_count": 180,
      "metadata": {
        "colab": {
          "base_uri": "https://localhost:8080/"
        },
        "id": "eJYVMYf9kcbo",
        "outputId": "2a9fb6c1-e099-432c-c100-640a5933cc5b"
      },
      "outputs": [
        {
          "output_type": "execute_result",
          "data": {
            "text/plain": [
              "(3072,)"
            ]
          },
          "metadata": {},
          "execution_count": 180
        }
      ],
      "source": [
        "dataset_dict[b'data'][0].shape"
      ]
    },
    {
      "cell_type": "code",
      "execution_count": 181,
      "metadata": {
        "colab": {
          "base_uri": "https://localhost:8080/"
        },
        "id": "2ZWxvZK4kcbp",
        "outputId": "c1169501-d095-4491-c290-9dd0e4cde9dc"
      },
      "outputs": [
        {
          "output_type": "execute_result",
          "data": {
            "text/plain": [
              "b'training batch 1 of 5'"
            ]
          },
          "metadata": {},
          "execution_count": 181
        }
      ],
      "source": [
        "dataset_dict[b'batch_label']"
      ]
    },
    {
      "cell_type": "code",
      "execution_count": 182,
      "metadata": {
        "colab": {
          "base_uri": "https://localhost:8080/"
        },
        "id": "MhJ2kzEwkcbq",
        "outputId": "b01a2b6d-d8a9-4c25-9603-00fa9903b60d"
      },
      "outputs": [
        {
          "output_type": "execute_result",
          "data": {
            "text/plain": [
              "6"
            ]
          },
          "metadata": {},
          "execution_count": 182
        }
      ],
      "source": [
        "dataset_dict[b'labels'][0]"
      ]
    },
    {
      "cell_type": "code",
      "execution_count": 183,
      "metadata": {
        "colab": {
          "base_uri": "https://localhost:8080/"
        },
        "id": "fcehUJ6Ekcbq",
        "outputId": "01ae7a9e-0080-4d71-c188-b051a5086f76"
      },
      "outputs": [
        {
          "output_type": "stream",
          "name": "stdout",
          "text": [
            "Training data shape: torch.Size([8000, 3, 32, 32])\n",
            "Training labels shape: torch.Size([8000])\n",
            "Validation data shape: torch.Size([2000, 3, 32, 32])\n",
            "Validation labels shape: torch.Size([2000])\n"
          ]
        }
      ],
      "source": [
        "data = dataset_dict[b'data']\n",
        "labels = dataset_dict[b'labels']\n",
        "\n",
        "data = torch.tensor(data, dtype=torch.float32).view(-1, 3, 32, 32).to(device)\n",
        "labels = torch.tensor(labels, dtype=torch.long).to(device)\n",
        "\n",
        "split_idx = int(0.8 * len(data))\n",
        "\n",
        "x_train, x_valid = data[:split_idx], data[split_idx:]\n",
        "y_train, y_valid = labels[:split_idx], labels[split_idx:]\n",
        "\n",
        "print(\"Training data shape:\", x_train.shape)\n",
        "print(\"Training labels shape:\", y_train.shape)\n",
        "\n",
        "print(\"Validation data shape:\", x_valid.shape)\n",
        "print(\"Validation labels shape:\", y_valid.shape)"
      ]
    },
    {
      "cell_type": "code",
      "execution_count": 184,
      "metadata": {
        "colab": {
          "base_uri": "https://localhost:8080/"
        },
        "id": "iGGXFZY9kcbr",
        "outputId": "907bc59f-632e-4513-9a7a-c4221c5902fb"
      },
      "outputs": [
        {
          "output_type": "execute_result",
          "data": {
            "text/plain": [
              "tensor([[-0.2784,  0.1295, -0.0953,  0.2713, -0.1485, -0.0411,  0.5143,  0.5460,\n",
              "          0.3264, -0.2419]], device='cuda:0', grad_fn=<ViewBackward0>)"
            ]
          },
          "metadata": {},
          "execution_count": 184
        }
      ],
      "source": [
        "# sample cnn\n",
        "from torch import nn\n",
        "\n",
        "simple_cnn = nn.Sequential(\n",
        "    nn.Conv2d(3, 4, kernel_size=3, stride=2, padding=1),    # 14x14x4\n",
        "    nn.ReLU(),\n",
        "    nn.Conv2d(4, 8, kernel_size=3, stride=2, padding=1),    # 7x7x8\n",
        "    nn.ReLU(),\n",
        "    nn.Conv2d(8, 16, kernel_size=3, stride=2, padding=1),    # 4x4x16\n",
        "    nn.ReLU(),\n",
        "    nn.Conv2d(16, 16, kernel_size=3, stride=2, padding=1),    # 2x2x16\n",
        "    nn.ReLU(),\n",
        "    nn.Conv2d(16, 10, kernel_size=3, stride=2, padding=1),    # 1x1x10\n",
        "    nn.Flatten(),\n",
        ").to(device)\n",
        "\n",
        "simple_cnn(x_train[0].unsqueeze(0))"
      ]
    },
    {
      "cell_type": "code",
      "execution_count": 185,
      "metadata": {
        "id": "3UsYc0ugkcbr"
      },
      "outputs": [],
      "source": [
        "X = x_train.reshape(8000, 3, 32, 32)"
      ]
    },
    {
      "cell_type": "code",
      "execution_count": 186,
      "metadata": {
        "colab": {
          "base_uri": "https://localhost:8080/"
        },
        "id": "s3C4LAFkkcbr",
        "outputId": "fb6a3dff-a42a-4e94-b7f9-c380dacb0e8b"
      },
      "outputs": [
        {
          "output_type": "execute_result",
          "data": {
            "text/plain": [
              "torch.Size([8000, 3, 32, 32])"
            ]
          },
          "metadata": {},
          "execution_count": 186
        }
      ],
      "source": [
        "X.shape"
      ]
    },
    {
      "cell_type": "code",
      "execution_count": 187,
      "metadata": {
        "id": "jytjAN-Akcbr"
      },
      "outputs": [],
      "source": [
        "def show_torch_image(img):\n",
        "    img = img.permute(1, 2, 0)\n",
        "    img = img.numpy().astype(np.uint8)\n",
        "\n",
        "    plt.imshow(img)\n",
        "    plt.axis('off')\n",
        "    plt.show()"
      ]
    },
    {
      "cell_type": "code",
      "execution_count": 188,
      "metadata": {
        "colab": {
          "base_uri": "https://localhost:8080/",
          "height": 406
        },
        "id": "zg5oytl_kcbs",
        "outputId": "8127e947-47f2-46f6-9d21-0b9fd9b46ac2"
      },
      "outputs": [
        {
          "output_type": "display_data",
          "data": {
            "text/plain": [
              "<Figure size 640x480 with 1 Axes>"
            ],
            "image/png": "[encoded data removed]"
          },
          "metadata": {}
        }
      ],
      "source": [
        "show_torch_image(X[13].cpu())"
      ]
    },
    {
      "cell_type": "code",
      "execution_count": 189,
      "metadata": {
        "id": "PIvCLjmmkcbs"
      },
      "outputs": [],
      "source": [
        "class ConvolutionalAutoencoder(nn.Module):\n",
        "    def __init__(self):\n",
        "        super().__init__()\n",
        "        self.encoder = nn.Sequential(\n",
        "            nn.Conv2d(3, 4, kernel_size=3, stride=2, padding=1),\n",
        "            nn.ReLU(),\n",
        "            nn.Conv2d(4, 8, kernel_size=3, stride=2, padding=1),\n",
        "            nn.ReLU(),\n",
        "            nn.Conv2d(8, 16, kernel_size=3, stride=2, padding=1),\n",
        "            nn.ReLU(),\n",
        "        )\n",
        "        self.decoder = nn.Sequential(\n",
        "            nn.ConvTranspose2d(16, 8, kernel_size=3, stride=2, padding=1, output_padding=1),\n",
        "            nn.ReLU(),\n",
        "            nn.ConvTranspose2d(8, 4, kernel_size=3, stride=2, padding=1, output_padding=1),\n",
        "            nn.ReLU(),\n",
        "            nn.ConvTranspose2d(4, 3, kernel_size=3, stride=2, padding=1, output_padding=1),\n",
        "            nn.Sigmoid(),\n",
        "        )\n",
        "\n",
        "    def forward(self, x):\n",
        "        encoded = self.encoder(x)\n",
        "        decoded = self.decoder(encoded)\n",
        "        return decoded"
      ]
    },
    {
      "cell_type": "code",
      "execution_count": 190,
      "metadata": {
        "id": "TUnlsePakcbs"
      },
      "outputs": [],
      "source": [
        "def validate(model, loss_func, valid_dl):\n",
        "    model.eval()\n",
        "    with torch.no_grad():\n",
        "        tot_loss = 0.\n",
        "        count = 0\n",
        "        for xb, _ in valid_dl:\n",
        "            pred = model(xb)\n",
        "            loss = loss_func(255 * pred, xb)\n",
        "            tot_loss += loss.item()\n",
        "            count += len(xb)\n",
        "    return tot_loss / count\n",
        "\n",
        "def fit(epochs, model, loss_func, opt, train_dl, valid_dl):\n",
        "    for epoch in range(epochs):\n",
        "        print(f\"Epoch {epoch+1}/{epochs}\")\n",
        "        model.train()\n",
        "        for xb,yb in train_dl:\n",
        "            pred = model(xb)\n",
        "            loss = loss_func(255 * pred, xb)\n",
        "            loss.backward()\n",
        "            opt.step()\n",
        "            opt.zero_grad()\n",
        "\n",
        "        tot_loss_count = validate(model, loss_func, valid_dl)\n",
        "        print(f\"Validation loss: {tot_loss_count}\")"
      ]
    },
    {
      "cell_type": "code",
      "execution_count": 191,
      "metadata": {
        "id": "vtzoZs_qkcbs"
      },
      "outputs": [],
      "source": [
        "class CIFARCustomDataset(Dataset):\n",
        "    def __init__(self, x, y):\n",
        "        self.x = x\n",
        "        self.y = y\n",
        "\n",
        "    def __len__(self):\n",
        "        return len(self.x)\n",
        "\n",
        "    def __getitem__(self, idx):\n",
        "        return self.x[idx], self.y[idx]"
      ]
    },
    {
      "cell_type": "code",
      "execution_count": 192,
      "metadata": {
        "id": "chPrqHGrkcbs"
      },
      "outputs": [],
      "source": [
        "train_ds = CIFARCustomDataset(x_train, y_train)\n",
        "valid_ds = CIFARCustomDataset(x_valid, y_valid)\n",
        "\n",
        "train_dl = DataLoader(train_ds, batch_size=32, shuffle=True)\n",
        "valid_dl = DataLoader(valid_ds, batch_size=32, shuffle=True)"
      ]
    },
    {
      "cell_type": "code",
      "execution_count": 193,
      "metadata": {
        "colab": {
          "base_uri": "https://localhost:8080/"
        },
        "id": "9BwgBY9Tkcbs",
        "outputId": "a3f6406c-3bc0-4724-e0b6-0d4497882d7c"
      },
      "outputs": [
        {
          "output_type": "stream",
          "name": "stdout",
          "text": [
            "8000\n"
          ]
        }
      ],
      "source": [
        "print(len(train_ds))"
      ]
    },
    {
      "cell_type": "code",
      "execution_count": 194,
      "metadata": {
        "colab": {
          "base_uri": "https://localhost:8080/"
        },
        "id": "HeBLBIyPkcbt",
        "outputId": "34296ed3-3818-4ea6-fffd-cad0eb2d58da"
      },
      "outputs": [
        {
          "output_type": "stream",
          "name": "stdout",
          "text": [
            "torch.Size([32, 3, 32, 32])\n",
            "torch.Size([32])\n"
          ]
        }
      ],
      "source": [
        "print(next(iter(train_dl))[0].shape)\n",
        "print(next(iter(train_dl))[1].shape)"
      ]
    },
    {
      "cell_type": "code",
      "source": [
        "model = ConvolutionalAutoencoder()\n",
        "loss_func = nn.MSELoss()\n",
        "opt = torch.optim.Adam(model.parameters(), lr=0.001)\n",
        "\n",
        "model.to(device)"
      ],
      "metadata": {
        "id": "ZeQ8wohmlr23",
        "colab": {
          "base_uri": "https://localhost:8080/"
        },
        "outputId": "4358ae2b-1636-45ec-b584-298157b521c6"
      },
      "execution_count": 195,
      "outputs": [
        {
          "output_type": "execute_result",
          "data": {
            "text/plain": [
              "ConvolutionalAutoencoder(\n",
              "  (encoder): Sequential(\n",
              "    (0): Conv2d(3, 4, kernel_size=(3, 3), stride=(2, 2), padding=(1, 1))\n",
              "    (1): ReLU()\n",
              "    (2): Conv2d(4, 8, kernel_size=(3, 3), stride=(2, 2), padding=(1, 1))\n",
              "    (3): ReLU()\n",
              "    (4): Conv2d(8, 16, kernel_size=(3, 3), stride=(2, 2), padding=(1, 1))\n",
              "    (5): ReLU()\n",
              "  )\n",
              "  (decoder): Sequential(\n",
              "    (0): ConvTranspose2d(16, 8, kernel_size=(3, 3), stride=(2, 2), padding=(1, 1), output_padding=(1, 1))\n",
              "    (1): ReLU()\n",
              "    (2): ConvTranspose2d(8, 4, kernel_size=(3, 3), stride=(2, 2), padding=(1, 1), output_padding=(1, 1))\n",
              "    (3): ReLU()\n",
              "    (4): ConvTranspose2d(4, 3, kernel_size=(3, 3), stride=(2, 2), padding=(1, 1), output_padding=(1, 1))\n",
              "    (5): Sigmoid()\n",
              "  )\n",
              ")"
            ]
          },
          "metadata": {},
          "execution_count": 195
        }
      ]
    },
    {
      "cell_type": "code",
      "execution_count": 196,
      "metadata": {
        "colab": {
          "base_uri": "https://localhost:8080/"
        },
        "id": "8ba_5Yplkcbt",
        "outputId": "841a3df9-a74e-42e2-8f07-2005793e4440"
      },
      "outputs": [
        {
          "output_type": "stream",
          "name": "stdout",
          "text": [
            "Epoch 1/20\n",
            "Validation loss: 50.50830242919922\n",
            "Epoch 2/20\n",
            "Validation loss: 35.94436700439453\n",
            "Epoch 3/20\n",
            "Validation loss: 26.597008361816407\n",
            "Epoch 4/20\n",
            "Validation loss: 21.458172424316405\n",
            "Epoch 5/20\n",
            "Validation loss: 19.53983297729492\n",
            "Epoch 6/20\n",
            "Validation loss: 17.469692276000977\n",
            "Epoch 7/20\n",
            "Validation loss: 18.051514358520507\n",
            "Epoch 8/20\n",
            "Validation loss: 15.73802146911621\n",
            "Epoch 9/20\n",
            "Validation loss: 15.17412321472168\n",
            "Epoch 10/20\n",
            "Validation loss: 14.534107650756836\n",
            "Epoch 11/20\n",
            "Validation loss: 14.290028594970703\n",
            "Epoch 12/20\n",
            "Validation loss: 14.552046173095704\n",
            "Epoch 13/20\n",
            "Validation loss: 13.781539093017578\n",
            "Epoch 14/20\n",
            "Validation loss: 14.271948013305664\n",
            "Epoch 15/20\n",
            "Validation loss: 13.068374374389649\n",
            "Epoch 16/20\n",
            "Validation loss: 13.081239013671874\n",
            "Epoch 17/20\n",
            "Validation loss: 12.88365542602539\n",
            "Epoch 18/20\n",
            "Validation loss: 12.846498001098633\n",
            "Epoch 19/20\n",
            "Validation loss: 12.671963745117187\n",
            "Epoch 20/20\n",
            "Validation loss: 12.407222274780274\n"
          ]
        }
      ],
      "source": [
        "fit(20, model, loss_func, opt, train_dl, valid_dl)"
      ]
    },
    {
      "cell_type": "code",
      "source": [
        "sample_output = model(x_train[0].unsqueeze(0))\n",
        "print(sample_output.shape)\n",
        "show_torch_image(255*sample_output.squeeze(0).detach().cpu())\n",
        "show_torch_image(x_train[0].cpu())"
      ],
      "metadata": {
        "colab": {
          "base_uri": "https://localhost:8080/",
          "height": 812
        },
        "id": "7YunZ90lluJM",
        "outputId": "d09bf9e3-ba6e-47c0-e363-aa00fd926f82"
      },
      "execution_count": 200,
      "outputs": [
        {
          "output_type": "stream",
          "name": "stdout",
          "text": [
            "torch.Size([1, 3, 32, 32])\n"
          ]
        },
        {
          "output_type": "display_data",
          "data": {
            "text/plain": [
              "<Figure size 640x480 with 1 Axes>"
            ],
            "image/png": "[encoded data removed]"
          },
          "metadata": {}
        },
        {
          "output_type": "display_data",
          "data": {
            "text/plain": [
              "<Figure size 640x480 with 1 Axes>"
            ],
            "image/png": "[encoded data removed]"
          },
          "metadata": {}
        }
      ]
    },
    {
      "cell_type": "code",
      "source": [
        "opt = torch.optim.Adam(model.parameters(), lr=0.0001)\n",
        "fit(20, model, loss_func, opt, train_dl, valid_dl)"
      ],
      "metadata": {
        "id": "EO56YHUP3ID6",
        "colab": {
          "base_uri": "https://localhost:8080/"
        },
        "outputId": "a9a4c12c-b5d4-49ae-8ffb-222b748a1587"
      },
      "execution_count": 198,
      "outputs": [
        {
          "output_type": "stream",
          "name": "stdout",
          "text": [
            "Epoch 1/20\n",
            "Validation loss: 12.237098663330078\n",
            "Epoch 2/20\n",
            "Validation loss: 12.213099670410156\n",
            "Epoch 3/20\n",
            "Validation loss: 12.130977188110352\n",
            "Epoch 4/20\n",
            "Validation loss: 12.139846649169922\n",
            "Epoch 5/20\n",
            "Validation loss: 12.066892196655273\n",
            "Epoch 6/20\n",
            "Validation loss: 12.026760879516601\n",
            "Epoch 7/20\n",
            "Validation loss: 12.037713577270507\n",
            "Epoch 8/20\n",
            "Validation loss: 11.979642105102538\n",
            "Epoch 9/20\n",
            "Validation loss: 11.952119216918945\n",
            "Epoch 10/20\n",
            "Validation loss: 11.958146057128907\n",
            "Epoch 11/20\n",
            "Validation loss: 11.909054626464844\n",
            "Epoch 12/20\n",
            "Validation loss: 11.928581573486328\n",
            "Epoch 13/20\n",
            "Validation loss: 11.873871643066407\n",
            "Epoch 14/20\n",
            "Validation loss: 11.832427947998047\n",
            "Epoch 15/20\n",
            "Validation loss: 11.819747192382813\n",
            "Epoch 16/20\n",
            "Validation loss: 11.810047897338867\n",
            "Epoch 17/20\n",
            "Validation loss: 11.801602249145509\n",
            "Epoch 18/20\n",
            "Validation loss: 11.755910095214844\n",
            "Epoch 19/20\n",
            "Validation loss: 11.844455429077149\n",
            "Epoch 20/20\n",
            "Validation loss: 11.709431091308593\n"
          ]
        }
      ]
    },
    {
      "cell_type": "code",
      "source": [
        "with torch.no_grad():\n",
        "    sample_output = model(x_train[0].unsqueeze(0))\n",
        "    show_torch_image(255*sample_output.squeeze(0).detach().cpu())\n",
        "    show_torch_image(x_train[0].cpu())"
      ],
      "metadata": {
        "colab": {
          "base_uri": "https://localhost:8080/",
          "height": 795
        },
        "id": "-NRCNrWcv-4i",
        "outputId": "6530574f-1bda-468f-ce33-b7185bfeaaf2"
      },
      "execution_count": 201,
      "outputs": [
        {
          "output_type": "display_data",
          "data": {
            "text/plain": [
              "<Figure size 640x480 with 1 Axes>"
            ],
            "image/png": "[encoded data removed]"
          },
          "metadata": {}
        },
        {
          "output_type": "display_data",
          "data": {
            "text/plain": [
              "<Figure size 640x480 with 1 Axes>"
            ],
            "image/png": "[encoded data removed]"
          },
          "metadata": {}
        }
      ]
    },
    {
      "cell_type": "markdown",
      "source": [
        "## Observations\n",
        "\n",
        "1. The more we compress with the encoder, the harder it gets to decode with the decoder. This makes sense intuitively, but still needed to be observed practically.\n",
        "\n",
        "2. A learning rate decay helped marginally, but not substantially. In the above implementation, we might want to try out different tricks to improve model performance (like batch norm, dropout)\n",
        "\n",
        "3. So far we've only trained our model with 10000 images. For 32x32x3 sized images, this is relatively low. We might want to train with an additional batch appended and see how that impacts performance.\n",
        "\n",
        "4. Additional non-compressive layers don't seem to help given the current dataset size constraints.\n"
      ],
      "metadata": {
        "id": "Pg4UR3zRx1rH"
      }
    }
  ],
  "metadata": {
    "kernelspec": {
      "display_name": "Python 3",
      "name": "python3"
    },
    "language_info": {
      "codemirror_mode": {
        "name": "ipython",
        "version": 3
      },
      "file_extension": ".py",
      "mimetype": "text/x-python",
      "name": "python",
      "nbconvert_exporter": "python",
      "pygments_lexer": "ipython3",
      "version": "3.10.14"
    },
    "colab": {
      "provenance": [],
      "gpuType": "T4",
      "include_colab_link": true
    },
    "accelerator": "GPU"
  },
  "nbformat": 4,
  "nbformat_minor": 0
}