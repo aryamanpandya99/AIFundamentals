{
  "cells": [
    {
      "cell_type": "markdown",
      "metadata": {
        "id": "view-in-github",
        "colab_type": "text"
      },
      "source": [
        "<a href=\"https://colab.research.google.com/github/aryamanpandya99/AIFundamentals/blob/master/MLPy/autoencoders.ipynb\" target=\"_parent\"><img src=\"https://colab.research.google.com/assets/colab-badge.svg\" alt=\"Open In Colab\"/></a>"
      ]
    },
    {
      "cell_type": "markdown",
      "metadata": {
        "id": "s-m2-9v6kcbh"
      },
      "source": [
        "# Autoencoders\n",
        "\n",
        "By Definition, an autoencoder is a neural network trained to downsize then reconstruct its input data from a latent representation. A convolutional autoencoder uses a CNN encoder to compress the input into the a latent representation and a deconvolutional (transposed convolution) decoder to reconstruct the input from the latent representation."
      ]
    },
    {
      "cell_type": "code",
      "source": [
        "from google.colab import drive\n",
        "drive.mount('/content/drive')"
      ],
      "metadata": {
        "colab": {
          "base_uri": "https://localhost:8080/"
        },
        "id": "zDHWFdpKk0py",
        "outputId": "50f70aa4-54dc-4378-d3ff-05c88917c71e"
      },
      "execution_count": 123,
      "outputs": [
        {
          "output_type": "stream",
          "name": "stdout",
          "text": [
            "Drive already mounted at /content/drive; to attempt to forcibly remount, call drive.mount(\"/content/drive\", force_remount=True).\n"
          ]
        }
      ]
    },
    {
      "cell_type": "code",
      "source": [],
      "metadata": {
        "id": "8Lw9HK4qk72d"
      },
      "execution_count": 123,
      "outputs": []
    },
    {
      "cell_type": "code",
      "execution_count": 124,
      "metadata": {
        "id": "ppJ9ovuukcbm"
      },
      "outputs": [],
      "source": [
        "import pickle, gzip, math, os, time, shutil, torch, matplotlib.pyplot as plt, numpy as np"
      ]
    },
    {
      "cell_type": "code",
      "execution_count": 125,
      "metadata": {
        "id": "l0EqXUj-kcbn"
      },
      "outputs": [],
      "source": [
        "import pandas as pd\n",
        "import pathlib as Path\n",
        "from torch.utils.data import DataLoader, default_collate, Dataset\n",
        "from typing import Mapping"
      ]
    },
    {
      "cell_type": "code",
      "execution_count": 126,
      "metadata": {
        "id": "HOyrxuLYkcbn"
      },
      "outputs": [],
      "source": [
        "with open('/content/drive/MyDrive/data/cifar-10-batches-py/data_batch_1', 'rb') as f:\n",
        "    dataset_dict = pickle.load(f, encoding='bytes')"
      ]
    },
    {
      "cell_type": "code",
      "execution_count": 127,
      "metadata": {
        "colab": {
          "base_uri": "https://localhost:8080/"
        },
        "id": "yu_xJl9tkcbo",
        "outputId": "0057285d-2069-4573-9e85-d3b7e5eca57f"
      },
      "outputs": [
        {
          "output_type": "execute_result",
          "data": {
            "text/plain": [
              "dict_keys([b'batch_label', b'labels', b'data', b'filenames'])"
            ]
          },
          "metadata": {},
          "execution_count": 127
        }
      ],
      "source": [
        "dataset_dict.keys()"
      ]
    },
    {
      "cell_type": "code",
      "execution_count": 128,
      "metadata": {
        "colab": {
          "base_uri": "https://localhost:8080/"
        },
        "id": "eJYVMYf9kcbo",
        "outputId": "b474bad6-a3cd-41ef-f3d2-89c7ad50a08c"
      },
      "outputs": [
        {
          "output_type": "execute_result",
          "data": {
            "text/plain": [
              "(3072,)"
            ]
          },
          "metadata": {},
          "execution_count": 128
        }
      ],
      "source": [
        "dataset_dict[b'data'][0].shape"
      ]
    },
    {
      "cell_type": "code",
      "execution_count": 129,
      "metadata": {
        "colab": {
          "base_uri": "https://localhost:8080/"
        },
        "id": "2ZWxvZK4kcbp",
        "outputId": "b1ac5dbe-04f1-484b-a75a-74097425344f"
      },
      "outputs": [
        {
          "output_type": "execute_result",
          "data": {
            "text/plain": [
              "b'training batch 1 of 5'"
            ]
          },
          "metadata": {},
          "execution_count": 129
        }
      ],
      "source": [
        "dataset_dict[b'batch_label']"
      ]
    },
    {
      "cell_type": "code",
      "execution_count": 130,
      "metadata": {
        "colab": {
          "base_uri": "https://localhost:8080/"
        },
        "id": "MhJ2kzEwkcbq",
        "outputId": "0d306f5a-541e-48c1-a663-b7099b754640"
      },
      "outputs": [
        {
          "output_type": "execute_result",
          "data": {
            "text/plain": [
              "6"
            ]
          },
          "metadata": {},
          "execution_count": 130
        }
      ],
      "source": [
        "dataset_dict[b'labels'][0]"
      ]
    },
    {
      "cell_type": "code",
      "execution_count": 131,
      "metadata": {
        "colab": {
          "base_uri": "https://localhost:8080/"
        },
        "id": "fcehUJ6Ekcbq",
        "outputId": "042d4cea-c6ea-43ea-c39f-825764a80248"
      },
      "outputs": [
        {
          "output_type": "stream",
          "name": "stdout",
          "text": [
            "Training data shape: torch.Size([8000, 3, 32, 32])\n",
            "Training labels shape: torch.Size([8000])\n",
            "Validation data shape: torch.Size([2000, 3, 32, 32])\n",
            "Validation labels shape: torch.Size([2000])\n"
          ]
        }
      ],
      "source": [
        "data = dataset_dict[b'data']\n",
        "labels = dataset_dict[b'labels']\n",
        "\n",
        "data = torch.tensor(data, dtype=torch.float32).view(-1, 3, 32, 32)\n",
        "labels = torch.tensor(labels, dtype=torch.long)\n",
        "\n",
        "split_idx = int(0.8 * len(data))\n",
        "\n",
        "x_train, x_valid = data[:split_idx], data[split_idx:]\n",
        "y_train, y_valid = labels[:split_idx], labels[split_idx:]\n",
        "\n",
        "print(\"Training data shape:\", x_train.shape)\n",
        "print(\"Training labels shape:\", y_train.shape)\n",
        "\n",
        "print(\"Validation data shape:\", x_valid.shape)\n",
        "print(\"Validation labels shape:\", y_valid.shape)"
      ]
    },
    {
      "cell_type": "code",
      "execution_count": 132,
      "metadata": {
        "colab": {
          "base_uri": "https://localhost:8080/"
        },
        "id": "iGGXFZY9kcbr",
        "outputId": "a474323c-62c6-4767-c666-2d16535bbf42"
      },
      "outputs": [
        {
          "output_type": "execute_result",
          "data": {
            "text/plain": [
              "tensor([[ 1.1421, -3.0289,  1.0328, -0.8987, -0.3128, -0.9448, -1.8399, -2.4957,\n",
              "         -0.1680, -1.2843]], grad_fn=<ViewBackward0>)"
            ]
          },
          "metadata": {},
          "execution_count": 132
        }
      ],
      "source": [
        "# sample cnn\n",
        "from torch import nn\n",
        "\n",
        "simple_cnn = nn.Sequential(\n",
        "    nn.Conv2d(3, 4, kernel_size=3, stride=2, padding=1),    # 14x14x4\n",
        "    nn.ReLU(),\n",
        "    nn.Conv2d(4, 8, kernel_size=3, stride=2, padding=1),    # 7x7x8\n",
        "    nn.ReLU(),\n",
        "    nn.Conv2d(8, 16, kernel_size=3, stride=2, padding=1),    # 4x4x16\n",
        "    nn.ReLU(),\n",
        "    nn.Conv2d(16, 16, kernel_size=3, stride=2, padding=1),    # 2x2x16\n",
        "    nn.ReLU(),\n",
        "    nn.Conv2d(16, 10, kernel_size=3, stride=2, padding=1),    # 1x1x10\n",
        "    nn.Flatten(),\n",
        ")\n",
        "\n",
        "simple_cnn(x_train[0].unsqueeze(0))"
      ]
    },
    {
      "cell_type": "code",
      "execution_count": 133,
      "metadata": {
        "id": "3UsYc0ugkcbr"
      },
      "outputs": [],
      "source": [
        "X = x_train.reshape(8000, 3, 32, 32)"
      ]
    },
    {
      "cell_type": "code",
      "execution_count": 134,
      "metadata": {
        "colab": {
          "base_uri": "https://localhost:8080/"
        },
        "id": "s3C4LAFkkcbr",
        "outputId": "39514f89-c933-4e62-c0a6-6ca0e90a0775"
      },
      "outputs": [
        {
          "output_type": "execute_result",
          "data": {
            "text/plain": [
              "torch.Size([8000, 3, 32, 32])"
            ]
          },
          "metadata": {},
          "execution_count": 134
        }
      ],
      "source": [
        "X.shape"
      ]
    },
    {
      "cell_type": "code",
      "execution_count": 135,
      "metadata": {
        "id": "jytjAN-Akcbr"
      },
      "outputs": [],
      "source": [
        "def show_torch_image(img):\n",
        "    img = img.permute(1, 2, 0)\n",
        "    img = img.numpy().astype(np.uint8)\n",
        "\n",
        "    plt.imshow(img)\n",
        "    plt.axis('off')\n",
        "    plt.show()"
      ]
    },
    {
      "cell_type": "code",
      "execution_count": 136,
      "metadata": {
        "colab": {
          "base_uri": "https://localhost:8080/",
          "height": 406
        },
        "id": "zg5oytl_kcbs",
        "outputId": "e5440fa1-cd79-4656-ad84-4f0f8754d527"
      },
      "outputs": [
        {
          "output_type": "display_data",
          "data": {
            "text/plain": [
              "<Figure size 640x480 with 1 Axes>"
            ],
            "image/png": "[encoded data removed]"
          },
          "metadata": {}
        }
      ],
      "source": [
        "show_torch_image(X[13])"
      ]
    },
    {
      "cell_type": "code",
      "execution_count": 137,
      "metadata": {
        "id": "PIvCLjmmkcbs"
      },
      "outputs": [],
      "source": [
        "class ConvolutionalAutoencoder(nn.Module):\n",
        "    def __init__(self):\n",
        "        super().__init__()\n",
        "        self.encoder = nn.Sequential(\n",
        "            nn.Conv2d(3, 4, kernel_size=3, stride=2, padding=1),    # 16x16x4\n",
        "            nn.ReLU(),\n",
        "            nn.Conv2d(4, 8, kernel_size=3, stride=2, padding=1),    # 8x8x8\n",
        "            nn.ReLU(),\n",
        "            nn.Conv2d(8, 16, kernel_size=3, stride=2, padding=1),    # 4x4x16\n",
        "            nn.ReLU(),\n",
        "            nn.Conv2d(16, 16, kernel_size=3, stride=2, padding=1),    # 2x2x16\n",
        "            nn.ReLU(),\n",
        "        )\n",
        "        self.decoder_part_1 = nn.Sequential(\n",
        "            nn.ConvTranspose2d(16, 16, kernel_size=3, stride=2, padding=1, output_padding=1),    # 4x4x16\n",
        "            nn.ReLU(),\n",
        "        )\n",
        "        self.decoder_part_2 = nn.Sequential(\n",
        "            nn.ConvTranspose2d(16, 8, kernel_size=3, stride=2, padding=1, output_padding=1),    # 8x8x8\n",
        "            nn.ReLU(),\n",
        "        )\n",
        "        self.decoder_part_3 = nn.Sequential(\n",
        "            nn.ConvTranspose2d(8, 4, kernel_size=3, stride=2, padding=1, output_padding=1),    # 16x16x4\n",
        "            nn.ReLU(),\n",
        "            nn.ConvTranspose2d(4, 3, kernel_size=3, stride=2, padding=1, output_padding=1),    # 32x32x3\n",
        "            nn.Sigmoid(),\n",
        "        )\n",
        "\n",
        "    def forward(self, x):\n",
        "        encoded = self.encoder(x)\n",
        "        decoded = self.decoder_part_1(encoded)\n",
        "        # print(f\"decoder_1 output shape: {decoded.shape}\")\n",
        "        decoded = self.decoder_part_2(decoded)\n",
        "        # print(f\"decoder_2 output shape: {decoded.shape}\")\n",
        "        decoded = self.decoder_part_3(decoded)\n",
        "        # print(f\"decoder_3 output shape: {decoded.shape}\")\n",
        "        return decoded"
      ]
    },
    {
      "cell_type": "code",
      "execution_count": 152,
      "metadata": {
        "id": "TUnlsePakcbs"
      },
      "outputs": [],
      "source": [
        "def validate(model, loss_func, valid_dl):\n",
        "    model.eval()\n",
        "    with torch.no_grad():\n",
        "        tot_loss = 0.\n",
        "        count = 0\n",
        "        for xb, _ in valid_dl:\n",
        "            pred = model(xb)\n",
        "            loss = loss_func(255 * pred, xb)\n",
        "            tot_loss += loss.item()\n",
        "            count += len(xb)\n",
        "    return tot_loss / count\n",
        "\n",
        "def fit(epochs, model, loss_func, opt, train_dl, valid_dl):\n",
        "    for epoch in range(epochs):\n",
        "        print(f\"Epoch {epoch+1}/{epochs}\")\n",
        "        model.train()\n",
        "        for xb,yb in train_dl:\n",
        "            pred = model(xb)\n",
        "            loss = loss_func(255 * pred, xb)\n",
        "            loss.backward()\n",
        "            opt.step()\n",
        "            opt.zero_grad()\n",
        "\n",
        "        tot_loss_count = validate(model, loss_func, valid_dl)\n",
        "        print(f\"Validation loss: {tot_loss_count}\")"
      ]
    },
    {
      "cell_type": "code",
      "execution_count": 139,
      "metadata": {
        "id": "vtzoZs_qkcbs"
      },
      "outputs": [],
      "source": [
        "class CIFARCustomDataset(Dataset):\n",
        "    def __init__(self, x, y):\n",
        "        self.x = x\n",
        "        self.y = y\n",
        "\n",
        "    def __len__(self):\n",
        "        return len(self.x)\n",
        "\n",
        "    def __getitem__(self, idx):\n",
        "        return self.x[idx], self.y[idx]"
      ]
    },
    {
      "cell_type": "code",
      "execution_count": 140,
      "metadata": {
        "id": "chPrqHGrkcbs"
      },
      "outputs": [],
      "source": [
        "train_ds = CIFARCustomDataset(x_train, y_train)\n",
        "valid_ds = CIFARCustomDataset(x_valid, y_valid)\n",
        "\n",
        "train_dl = DataLoader(train_ds, batch_size=32, shuffle=True)\n",
        "valid_dl = DataLoader(valid_ds, batch_size=32, shuffle=True)"
      ]
    },
    {
      "cell_type": "code",
      "execution_count": 141,
      "metadata": {
        "colab": {
          "base_uri": "https://localhost:8080/"
        },
        "id": "9BwgBY9Tkcbs",
        "outputId": "e8501282-af37-4111-8b45-0fa960f074fc"
      },
      "outputs": [
        {
          "output_type": "stream",
          "name": "stdout",
          "text": [
            "8000\n"
          ]
        }
      ],
      "source": [
        "print(len(train_ds))"
      ]
    },
    {
      "cell_type": "code",
      "execution_count": 142,
      "metadata": {
        "colab": {
          "base_uri": "https://localhost:8080/"
        },
        "id": "HeBLBIyPkcbt",
        "outputId": "a790fe07-f6f8-49f1-cb47-b8869bcc85c4"
      },
      "outputs": [
        {
          "output_type": "stream",
          "name": "stdout",
          "text": [
            "torch.Size([32, 3, 32, 32])\n",
            "torch.Size([32])\n"
          ]
        }
      ],
      "source": [
        "print(next(iter(train_dl))[0].shape)\n",
        "print(next(iter(train_dl))[1].shape)"
      ]
    },
    {
      "cell_type": "code",
      "source": [
        "model = ConvolutionalAutoencoder()\n",
        "loss_func = nn.MSELoss()\n",
        "opt = torch.optim.Adam(model.parameters(), lr=0.001)"
      ],
      "metadata": {
        "id": "ZeQ8wohmlr23"
      },
      "execution_count": 153,
      "outputs": []
    },
    {
      "cell_type": "code",
      "execution_count": 154,
      "metadata": {
        "colab": {
          "base_uri": "https://localhost:8080/"
        },
        "id": "8ba_5Yplkcbt",
        "outputId": "0cf3e721-da54-4ef7-c401-3468df3df313"
      },
      "outputs": [
        {
          "output_type": "stream",
          "name": "stdout",
          "text": [
            "Epoch 1/10\n",
            "Validation loss: 72.02756274414062\n",
            "Epoch 2/10\n",
            "Validation loss: 47.10017645263672\n",
            "Epoch 3/10\n",
            "Validation loss: 40.25708822631836\n",
            "Epoch 4/10\n",
            "Validation loss: 34.31646401977539\n",
            "Epoch 5/10\n",
            "Validation loss: 31.783848571777344\n",
            "Epoch 6/10\n",
            "Validation loss: 29.682344604492187\n",
            "Epoch 7/10\n",
            "Validation loss: 28.77660647583008\n",
            "Epoch 8/10\n",
            "Validation loss: 28.146220916748046\n",
            "Epoch 9/10\n",
            "Validation loss: 27.20933923339844\n",
            "Epoch 10/10\n",
            "Validation loss: 26.988009216308594\n"
          ]
        }
      ],
      "source": [
        "fit(10, model, loss_func, opt, train_dl, valid_dl)"
      ]
    },
    {
      "cell_type": "code",
      "source": [
        "sample_output = model(x_train[0].unsqueeze(0))\n",
        "print(sample_output.shape)\n",
        "show_torch_image(255*sample_output.squeeze(0).detach())\n",
        "show_torch_image(x_train[0])"
      ],
      "metadata": {
        "colab": {
          "base_uri": "https://localhost:8080/",
          "height": 812
        },
        "id": "7YunZ90lluJM",
        "outputId": "b9968465-58b1-4494-815d-f8702529d974"
      },
      "execution_count": 156,
      "outputs": [
        {
          "output_type": "stream",
          "name": "stdout",
          "text": [
            "torch.Size([1, 3, 32, 32])\n"
          ]
        },
        {
          "output_type": "display_data",
          "data": {
            "text/plain": [
              "<Figure size 640x480 with 1 Axes>"
            ],
            "image/png": "[encoded data removed]"
          },
          "metadata": {}
        },
        {
          "output_type": "display_data",
          "data": {
            "text/plain": [
              "<Figure size 640x480 with 1 Axes>"
            ],
            "image/png": "[encoded data removed]"
          },
          "metadata": {}
        }
      ]
    },
    {
      "cell_type": "code",
      "source": [
        "sample_output"
      ],
      "metadata": {
        "colab": {
          "base_uri": "https://localhost:8080/"
        },
        "id": "EoBE-0Pu3lcQ",
        "outputId": "e305bff8-5b4f-4804-b328-36d8670f7e1a"
      },
      "execution_count": 151,
      "outputs": [
        {
          "output_type": "execute_result",
          "data": {
            "text/plain": [
              "tensor([[[[1.0000e+00, 1.0000e+00, 1.0000e+00,  ..., 1.0000e+00,\n",
              "           1.0000e+00, 1.0000e+00],\n",
              "          [1.0000e+00, 1.0000e+00, 1.0000e+00,  ..., 1.0000e+00,\n",
              "           1.0000e+00, 1.0000e+00],\n",
              "          [1.0000e+00, 1.0000e+00, 1.0000e+00,  ..., 1.0000e+00,\n",
              "           1.0000e+00, 1.0000e+00],\n",
              "          ...,\n",
              "          [1.0000e+00, 1.0000e+00, 1.0000e+00,  ..., 1.0000e+00,\n",
              "           1.0000e+00, 1.0000e+00],\n",
              "          [1.0000e+00, 1.0000e+00, 1.0000e+00,  ..., 1.0000e+00,\n",
              "           1.0000e+00, 1.0000e+00],\n",
              "          [1.0000e+00, 1.0000e+00, 1.0000e+00,  ..., 1.0000e+00,\n",
              "           1.0000e+00, 1.0000e+00]],\n",
              "\n",
              "         [[1.0000e+00, 1.0000e+00, 1.0000e+00,  ..., 1.0000e+00,\n",
              "           1.0000e+00, 1.0000e+00],\n",
              "          [1.0000e+00, 1.0000e+00, 1.0000e+00,  ..., 1.0000e+00,\n",
              "           1.0000e+00, 1.0000e+00],\n",
              "          [1.0000e+00, 1.0000e+00, 1.0000e+00,  ..., 1.0000e+00,\n",
              "           1.0000e+00, 1.0000e+00],\n",
              "          ...,\n",
              "          [1.0000e+00, 1.0000e+00, 1.0000e+00,  ..., 1.0000e+00,\n",
              "           1.0000e+00, 1.0000e+00],\n",
              "          [1.0000e+00, 1.0000e+00, 1.0000e+00,  ..., 1.0000e+00,\n",
              "           1.0000e+00, 1.0000e+00],\n",
              "          [1.0000e+00, 1.0000e+00, 1.0000e+00,  ..., 1.0000e+00,\n",
              "           1.0000e+00, 1.0000e+00]],\n",
              "\n",
              "         [[1.0000e+00, 1.0000e+00, 1.0000e+00,  ..., 1.0000e+00,\n",
              "           1.0000e+00, 1.0000e+00],\n",
              "          [1.0000e+00, 1.0000e+00, 1.0000e+00,  ..., 1.0000e+00,\n",
              "           1.0000e+00, 1.0000e+00],\n",
              "          [1.0000e+00, 1.0000e+00, 1.0000e+00,  ..., 1.0000e+00,\n",
              "           1.0000e+00, 1.0000e+00],\n",
              "          ...,\n",
              "          [1.0000e+00, 1.0000e+00, 1.0000e+00,  ..., 1.0000e+00,\n",
              "           1.0000e+00, 1.0000e+00],\n",
              "          [1.0000e+00, 1.0000e+00, 1.0000e+00,  ..., 1.0000e+00,\n",
              "           1.0000e+00, 1.0000e+00],\n",
              "          [1.0000e+00, 1.0000e+00, 1.0000e+00,  ..., 1.0000e+00,\n",
              "           1.0000e+00, 1.9567e-20]]]], grad_fn=<SigmoidBackward0>)"
            ]
          },
          "metadata": {},
          "execution_count": 151
        }
      ]
    },
    {
      "cell_type": "code",
      "source": [],
      "metadata": {
        "id": "EO56YHUP3ID6"
      },
      "execution_count": null,
      "outputs": []
    }
  ],
  "metadata": {
    "kernelspec": {
      "display_name": "cv_project",
      "language": "python",
      "name": "python3"
    },
    "language_info": {
      "codemirror_mode": {
        "name": "ipython",
        "version": 3
      },
      "file_extension": ".py",
      "mimetype": "text/x-python",
      "name": "python",
      "nbconvert_exporter": "python",
      "pygments_lexer": "ipython3",
      "version": "3.10.14"
    },
    "colab": {
      "provenance": [],
      "include_colab_link": true
    }
  },
  "nbformat": 4,
  "nbformat_minor": 0
}