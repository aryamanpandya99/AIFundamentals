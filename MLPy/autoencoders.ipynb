{
  "cells": [
    {
      "cell_type": "markdown",
      "metadata": {
        "id": "view-in-github",
        "colab_type": "text"
      },
      "source": [
        "<a href=\"https://colab.research.google.com/github/aryamanpandya99/AIFundamentals/blob/master/MLPy/autoencoders.ipynb\" target=\"_parent\"><img src=\"https://colab.research.google.com/assets/colab-badge.svg\" alt=\"Open In Colab\"/></a>"
      ]
    },
    {
      "cell_type": "markdown",
      "metadata": {
        "id": "s-m2-9v6kcbh"
      },
      "source": [
        "# Autoencoders\n",
        "\n",
        "By definition, an autoencoder is a neural network trained to downsize then reconstruct its input data from a latent representation. A convolutional autoencoder uses a CNN encoder to compress the input into the a latent representation and a deconvolutional (transposed convolution) decoder to reconstruct the input from the latent representation."
      ]
    },
    {
      "cell_type": "code",
      "execution_count": 164,
      "metadata": {
        "colab": {
          "base_uri": "https://localhost:8080/"
        },
        "id": "zDHWFdpKk0py",
        "outputId": "393bdb44-5fd6-457d-c58d-8557a5f9777a"
      },
      "outputs": [
        {
          "output_type": "stream",
          "name": "stdout",
          "text": [
            "Drive already mounted at /content/drive; to attempt to forcibly remount, call drive.mount(\"/content/drive\", force_remount=True).\n"
          ]
        }
      ],
      "source": [
        "from google.colab import drive\n",
        "drive.mount('/content/drive')"
      ]
    },
    {
      "cell_type": "code",
      "execution_count": 165,
      "metadata": {
        "id": "ppJ9ovuukcbm"
      },
      "outputs": [],
      "source": [
        "import pickle, gzip, math, os, time, shutil, torch, matplotlib.pyplot as plt, numpy as np"
      ]
    },
    {
      "cell_type": "code",
      "execution_count": 166,
      "metadata": {
        "id": "l0EqXUj-kcbn"
      },
      "outputs": [],
      "source": [
        "import pandas as pd\n",
        "import pathlib as Path\n",
        "from torch.utils.data import DataLoader, default_collate, Dataset\n",
        "from typing import Mapping"
      ]
    },
    {
      "cell_type": "code",
      "source": [
        "device = torch.device('cuda') if torch.cuda.is_available() else torch.device('cpu')"
      ],
      "metadata": {
        "id": "WTdtUSdzhje3"
      },
      "execution_count": 167,
      "outputs": []
    },
    {
      "cell_type": "code",
      "execution_count": 168,
      "metadata": {
        "id": "HOyrxuLYkcbn"
      },
      "outputs": [],
      "source": [
        "all_batches_data = []\n",
        "all_batches_labels = []\n",
        "\n",
        "for i in range(1, 6):\n",
        "    with open(f'/content/drive/MyDrive/data/cifar-10-batches-py/data_batch_{i}', 'rb') as f:\n",
        "        dataset_dict = pickle.load(f, encoding='bytes')\n",
        "        all_batches_data.append(dataset_dict[b'data'])\n",
        "        all_batches_labels.append(dataset_dict[b'labels'])\n",
        "\n",
        "stacked_data = np.vstack(all_batches_data)\n",
        "stacked_labels = np.hstack(all_batches_labels)"
      ]
    },
    {
      "cell_type": "code",
      "execution_count": 169,
      "metadata": {
        "colab": {
          "base_uri": "https://localhost:8080/"
        },
        "id": "fcehUJ6Ekcbq",
        "outputId": "26b6099f-8f56-4bbe-bbb7-8fbf7abca8e2"
      },
      "outputs": [
        {
          "output_type": "stream",
          "name": "stdout",
          "text": [
            "Training data shape: torch.Size([40000, 3, 32, 32])\n",
            "Training labels shape: torch.Size([40000])\n",
            "Validation data shape: torch.Size([10000, 3, 32, 32])\n",
            "Validation labels shape: torch.Size([10000])\n"
          ]
        }
      ],
      "source": [
        "data = torch.tensor(stacked_data, dtype=torch.float32).view(-1, 3, 32, 32).to(device) / 255.\n",
        "labels = torch.tensor(stacked_labels, dtype=torch.long).to(device)\n",
        "\n",
        "split_idx = int(0.8 * len(data))\n",
        "\n",
        "x_train, x_valid = data[:split_idx], data[split_idx:]\n",
        "y_train, y_valid = labels[:split_idx], labels[split_idx:]\n",
        "\n",
        "print(\"Training data shape:\", x_train.shape)\n",
        "print(\"Training labels shape:\", y_train.shape)\n",
        "\n",
        "print(\"Validation data shape:\", x_valid.shape)\n",
        "print(\"Validation labels shape:\", y_valid.shape)"
      ]
    },
    {
      "cell_type": "code",
      "execution_count": 170,
      "metadata": {
        "colab": {
          "base_uri": "https://localhost:8080/"
        },
        "id": "iGGXFZY9kcbr",
        "outputId": "20100e3a-6eb5-4474-db97-dd9a1017ae3d"
      },
      "outputs": [
        {
          "output_type": "execute_result",
          "data": {
            "text/plain": [
              "tensor([[-0.0199,  0.0211, -0.0202, -0.0078, -0.0296, -0.0655,  0.0820, -0.0219,\n",
              "         -0.0680,  0.0308]], device='cuda:0', grad_fn=<ViewBackward0>)"
            ]
          },
          "metadata": {},
          "execution_count": 170
        }
      ],
      "source": [
        "# sample cnn\n",
        "from torch import nn\n",
        "\n",
        "simple_cnn = nn.Sequential(\n",
        "    nn.Conv2d(3, 4, kernel_size=3, stride=2, padding=1),    # 14x14x4\n",
        "    nn.ReLU(),\n",
        "    nn.Conv2d(4, 8, kernel_size=3, stride=2, padding=1),    # 7x7x8\n",
        "    nn.ReLU(),\n",
        "    nn.Conv2d(8, 16, kernel_size=3, stride=2, padding=1),    # 4x4x16\n",
        "    nn.ReLU(),\n",
        "    nn.Conv2d(16, 16, kernel_size=3, stride=2, padding=1),    # 2x2x16\n",
        "    nn.ReLU(),\n",
        "    nn.Conv2d(16, 10, kernel_size=3, stride=2, padding=1),    # 1x1x10\n",
        "    nn.Flatten(),\n",
        ").to(device)\n",
        "\n",
        "simple_cnn(x_train[0].unsqueeze(0))"
      ]
    },
    {
      "cell_type": "code",
      "execution_count": 171,
      "metadata": {
        "id": "jytjAN-Akcbr"
      },
      "outputs": [],
      "source": [
        "def show_torch_image(img):\n",
        "    img = img.permute(1, 2, 0)\n",
        "    img = img.numpy().astype(np.uint8)\n",
        "\n",
        "    plt.imshow(img)\n",
        "    plt.axis('off')\n",
        "    plt.show()"
      ]
    },
    {
      "cell_type": "code",
      "execution_count": 172,
      "metadata": {
        "colab": {
          "base_uri": "https://localhost:8080/",
          "height": 406
        },
        "id": "zg5oytl_kcbs",
        "outputId": "c6ed8785-a5e3-4b0d-c5ba-67d600bc5738"
      },
      "outputs": [
        {
          "output_type": "display_data",
          "data": {
            "text/plain": [
              "<Figure size 640x480 with 1 Axes>"
            ],
            "image/png": "[encoded data removed]"
          },
          "metadata": {}
        }
      ],
      "source": [
        "show_torch_image(255 * x_train[13].cpu())"
      ]
    },
    {
      "cell_type": "code",
      "execution_count": 195,
      "metadata": {
        "id": "PIvCLjmmkcbs"
      },
      "outputs": [],
      "source": [
        "class ConvolutionalAutoencoder(nn.Module):\n",
        "    def __init__(self):\n",
        "        super().__init__()\n",
        "        self.encoder = nn.Sequential(\n",
        "            nn.Conv2d(3, 24, kernel_size=3, stride=2, padding=1),\n",
        "            nn.ReLU(),\n",
        "            nn.Conv2d(24, 48, kernel_size=3, stride=2, padding=1),\n",
        "            nn.ReLU(),\n",
        "            nn.Conv2d(48, 96, kernel_size=3, stride=2, padding=1),\n",
        "            nn.ReLU(),\n",
        "        )\n",
        "        self.decoder = nn.Sequential(\n",
        "            nn.ConvTranspose2d(96, 48, kernel_size=3, stride=2, padding=1, output_padding=1),\n",
        "            nn.ReLU(),\n",
        "            nn.ConvTranspose2d(48, 24, kernel_size=3, stride=2, padding=1, output_padding=1),\n",
        "            nn.ReLU(),\n",
        "            nn.ConvTranspose2d(24, 3, kernel_size=3, stride=2, padding=1, output_padding=1),\n",
        "            nn.Sigmoid(),\n",
        "        )\n",
        "\n",
        "    def forward(self, x):\n",
        "        encoded = self.encoder(x)\n",
        "        return self.decoder(encoded)"
      ]
    },
    {
      "cell_type": "code",
      "execution_count": 196,
      "metadata": {
        "id": "TUnlsePakcbs"
      },
      "outputs": [],
      "source": [
        "def validate(model, loss_func, valid_dl):\n",
        "    model.eval()\n",
        "    with torch.no_grad():\n",
        "        tot_loss = 0.\n",
        "        count = 0\n",
        "        for xb, _ in valid_dl:\n",
        "            pred = model(xb)\n",
        "            loss = loss_func(pred, xb)\n",
        "            tot_loss += loss.item()\n",
        "            count += len(xb)\n",
        "    return tot_loss / count\n",
        "\n",
        "def fit(epochs, model, loss_func, opt, train_dl, valid_dl):\n",
        "    for epoch in range(epochs):\n",
        "        print(f\"Epoch {epoch+1}/{epochs}\")\n",
        "        model.train()\n",
        "        for xb,yb in train_dl:\n",
        "            pred = model(xb)\n",
        "            loss = loss_func(pred, xb)\n",
        "            loss.backward()\n",
        "            opt.step()\n",
        "            opt.zero_grad()\n",
        "\n",
        "        tot_loss_count = validate(model, loss_func, valid_dl)\n",
        "        print(f\"Validation loss: {tot_loss_count}\")"
      ]
    },
    {
      "cell_type": "code",
      "execution_count": 197,
      "metadata": {
        "id": "vtzoZs_qkcbs"
      },
      "outputs": [],
      "source": [
        "class CIFARCustomDataset(Dataset):\n",
        "    def __init__(self, x, y):\n",
        "        self.x = x\n",
        "        self.y = y\n",
        "\n",
        "    def __len__(self):\n",
        "        return len(self.x)\n",
        "\n",
        "    def __getitem__(self, idx):\n",
        "        return self.x[idx], self.y[idx]"
      ]
    },
    {
      "cell_type": "code",
      "execution_count": 198,
      "metadata": {
        "id": "chPrqHGrkcbs"
      },
      "outputs": [],
      "source": [
        "train_ds = CIFARCustomDataset(x_train, y_train)\n",
        "valid_ds = CIFARCustomDataset(x_valid, y_valid)\n",
        "\n",
        "train_dl = DataLoader(train_ds, batch_size=32, shuffle=True)\n",
        "valid_dl = DataLoader(valid_ds, batch_size=32, shuffle=True)"
      ]
    },
    {
      "cell_type": "code",
      "execution_count": 199,
      "metadata": {
        "colab": {
          "base_uri": "https://localhost:8080/"
        },
        "id": "9BwgBY9Tkcbs",
        "outputId": "8a3932ba-8037-4425-90db-1fe614d531bc"
      },
      "outputs": [
        {
          "output_type": "stream",
          "name": "stdout",
          "text": [
            "40000\n"
          ]
        }
      ],
      "source": [
        "print(len(train_ds))"
      ]
    },
    {
      "cell_type": "code",
      "execution_count": 200,
      "metadata": {
        "colab": {
          "base_uri": "https://localhost:8080/"
        },
        "id": "HeBLBIyPkcbt",
        "outputId": "78b7216c-5506-44d5-d591-765d35547055"
      },
      "outputs": [
        {
          "output_type": "stream",
          "name": "stdout",
          "text": [
            "torch.Size([32, 3, 32, 32])\n",
            "torch.Size([32])\n"
          ]
        }
      ],
      "source": [
        "print(next(iter(train_dl))[0].shape)\n",
        "print(next(iter(train_dl))[1].shape)"
      ]
    },
    {
      "cell_type": "code",
      "execution_count": 201,
      "metadata": {
        "id": "ZeQ8wohmlr23"
      },
      "outputs": [],
      "source": [
        "model = ConvolutionalAutoencoder()\n",
        "loss_func = nn.MSELoss()\n",
        "opt = torch.optim.Adam(model.parameters(), lr=0.001)"
      ]
    },
    {
      "cell_type": "code",
      "execution_count": 202,
      "metadata": {
        "colab": {
          "base_uri": "https://localhost:8080/"
        },
        "id": "ZNX95wMHnUrM",
        "outputId": "bb9a03d5-e8a3-4d77-9492-337445526a6b"
      },
      "outputs": [
        {
          "output_type": "execute_result",
          "data": {
            "text/plain": [
              "ConvolutionalAutoencoder(\n",
              "  (encoder): Sequential(\n",
              "    (0): Conv2d(3, 24, kernel_size=(3, 3), stride=(2, 2), padding=(1, 1))\n",
              "    (1): ReLU()\n",
              "    (2): Conv2d(24, 48, kernel_size=(3, 3), stride=(2, 2), padding=(1, 1))\n",
              "    (3): ReLU()\n",
              "    (4): Conv2d(48, 96, kernel_size=(3, 3), stride=(2, 2), padding=(1, 1))\n",
              "    (5): ReLU()\n",
              "  )\n",
              "  (decoder): Sequential(\n",
              "    (0): ConvTranspose2d(96, 48, kernel_size=(3, 3), stride=(2, 2), padding=(1, 1), output_padding=(1, 1))\n",
              "    (1): ReLU()\n",
              "    (2): ConvTranspose2d(48, 24, kernel_size=(3, 3), stride=(2, 2), padding=(1, 1), output_padding=(1, 1))\n",
              "    (3): ReLU()\n",
              "    (4): ConvTranspose2d(24, 3, kernel_size=(3, 3), stride=(2, 2), padding=(1, 1), output_padding=(1, 1))\n",
              "    (5): Sigmoid()\n",
              "  )\n",
              ")"
            ]
          },
          "metadata": {},
          "execution_count": 202
        }
      ],
      "source": [
        "model.to(device)"
      ]
    },
    {
      "cell_type": "code",
      "execution_count": 203,
      "metadata": {
        "id": "8ba_5Yplkcbt",
        "colab": {
          "base_uri": "https://localhost:8080/"
        },
        "outputId": "fc9bbb09-f086-40c6-c3a7-2281a2b80f2a"
      },
      "outputs": [
        {
          "output_type": "stream",
          "name": "stdout",
          "text": [
            "Epoch 1/20\n",
            "Validation loss: 0.00016715352768078447\n",
            "Epoch 2/20\n",
            "Validation loss: 0.00012940268230158836\n",
            "Epoch 3/20\n",
            "Validation loss: 9.362535222899169e-05\n",
            "Epoch 4/20\n",
            "Validation loss: 7.328917270060628e-05\n",
            "Epoch 5/20\n",
            "Validation loss: 6.071821653749794e-05\n",
            "Epoch 6/20\n",
            "Validation loss: 5.3354900935664774e-05\n",
            "Epoch 7/20\n",
            "Validation loss: 5.003379643894732e-05\n",
            "Epoch 8/20\n",
            "Validation loss: 4.379688269691542e-05\n",
            "Epoch 9/20\n",
            "Validation loss: 4.245228574145585e-05\n",
            "Epoch 10/20\n",
            "Validation loss: 3.834330629324541e-05\n",
            "Epoch 11/20\n",
            "Validation loss: 4.8527628788724544e-05\n",
            "Epoch 12/20\n",
            "Validation loss: 3.6489685345441106e-05\n",
            "Epoch 13/20\n",
            "Validation loss: 3.416006008046679e-05\n",
            "Epoch 14/20\n",
            "Validation loss: 3.1081737752538174e-05\n",
            "Epoch 15/20\n",
            "Validation loss: 2.957239233655855e-05\n",
            "Epoch 16/20\n",
            "Validation loss: 3.088631210848689e-05\n",
            "Epoch 17/20\n",
            "Validation loss: 2.7132819179678335e-05\n",
            "Epoch 18/20\n",
            "Validation loss: 2.6576519198715685e-05\n",
            "Epoch 19/20\n",
            "Validation loss: 2.461595800705254e-05\n",
            "Epoch 20/20\n",
            "Validation loss: 2.425378473708406e-05\n"
          ]
        }
      ],
      "source": [
        "fit(20, model, loss_func, opt, train_dl, valid_dl)"
      ]
    },
    {
      "cell_type": "code",
      "execution_count": 204,
      "metadata": {
        "id": "7YunZ90lluJM",
        "colab": {
          "base_uri": "https://localhost:8080/",
          "height": 812
        },
        "outputId": "efaa3527-b910-4b15-d71b-3c2e8737aac4"
      },
      "outputs": [
        {
          "output_type": "stream",
          "name": "stdout",
          "text": [
            "torch.Size([1, 3, 32, 32])\n"
          ]
        },
        {
          "output_type": "display_data",
          "data": {
            "text/plain": [
              "<Figure size 640x480 with 1 Axes>"
            ],
            "image/png": "[encoded data removed]"
          },
          "metadata": {}
        },
        {
          "output_type": "display_data",
          "data": {
            "text/plain": [
              "<Figure size 640x480 with 1 Axes>"
            ],
            "image/png": "[encoded data removed]"
          },
          "metadata": {}
        }
      ],
      "source": [
        "sample_output = model(x_train[0].unsqueeze(0))\n",
        "print(sample_output.shape)\n",
        "show_torch_image(255*sample_output.squeeze(0).detach().cpu())\n",
        "show_torch_image(255 * x_train[0].cpu())"
      ]
    },
    {
      "cell_type": "code",
      "source": [
        "opt = torch.optim.Adam(model.parameters(), lr=0.0001)\n",
        "fit(20, model, loss_func, opt, train_dl, valid_dl)"
      ],
      "metadata": {
        "colab": {
          "base_uri": "https://localhost:8080/"
        },
        "id": "vbYpjtnJibGz",
        "outputId": "4e4e63f2-beb5-4608-d211-947325f795ee"
      },
      "execution_count": 205,
      "outputs": [
        {
          "output_type": "stream",
          "name": "stdout",
          "text": [
            "Epoch 1/20\n",
            "Validation loss: 2.188009995734319e-05\n",
            "Epoch 2/20\n",
            "Validation loss: 2.166193930897862e-05\n",
            "Epoch 3/20\n",
            "Validation loss: 2.1274357271613552e-05\n",
            "Epoch 4/20\n",
            "Validation loss: 2.114892888930626e-05\n",
            "Epoch 5/20\n",
            "Validation loss: 2.080260631046258e-05\n",
            "Epoch 6/20\n",
            "Validation loss: 2.0561565138632433e-05\n",
            "Epoch 7/20\n",
            "Validation loss: 2.034807674936019e-05\n",
            "Epoch 8/20\n",
            "Validation loss: 2.022644015669357e-05\n",
            "Epoch 9/20\n",
            "Validation loss: 2.0063350148848258e-05\n",
            "Epoch 10/20\n",
            "Validation loss: 1.9822043683961966e-05\n",
            "Epoch 11/20\n",
            "Validation loss: 1.959147836896591e-05\n",
            "Epoch 12/20\n",
            "Validation loss: 1.944143220607657e-05\n",
            "Epoch 13/20\n",
            "Validation loss: 1.9282024106360042e-05\n",
            "Epoch 14/20\n",
            "Validation loss: 1.911841388500761e-05\n",
            "Epoch 15/20\n",
            "Validation loss: 1.8994702491909266e-05\n",
            "Epoch 16/20\n",
            "Validation loss: 1.8928385138860903e-05\n",
            "Epoch 17/20\n",
            "Validation loss: 1.8643813519156537e-05\n",
            "Epoch 18/20\n",
            "Validation loss: 1.8652658868813888e-05\n",
            "Epoch 19/20\n",
            "Validation loss: 1.8393395724706352e-05\n",
            "Epoch 20/20\n",
            "Validation loss: 1.8336606345837934e-05\n"
          ]
        }
      ]
    },
    {
      "cell_type": "code",
      "source": [
        "with torch.no_grad():\n",
        "    sample_output = model(x_train[13].unsqueeze(0))\n",
        "    show_torch_image(255*sample_output.squeeze(0).detach().cpu())\n",
        "    show_torch_image(255 * x_train[13].cpu())"
      ],
      "metadata": {
        "colab": {
          "base_uri": "https://localhost:8080/",
          "height": 795
        },
        "id": "xRg2F5C6iuzg",
        "outputId": "c8872769-74c6-4775-fb32-e2e9a49ef826"
      },
      "execution_count": 208,
      "outputs": [
        {
          "output_type": "display_data",
          "data": {
            "text/plain": [
              "<Figure size 640x480 with 1 Axes>"
            ],
            "image/png": "[encoded data removed]"
          },
          "metadata": {}
        },
        {
          "output_type": "display_data",
          "data": {
            "text/plain": [
              "<Figure size 640x480 with 1 Axes>"
            ],
            "image/png": "[encoded data removed]"
          },
          "metadata": {}
        }
      ]
    },
    {
      "cell_type": "markdown",
      "source": [
        "## Observations\n",
        "\n",
        "1. The more we compress with the encoder, the harder it gets to decode with the decoder. This makes sense intuitively, but still needed to be observed practically.\n",
        "\n",
        "2. A learning rate decay helped marginally, but not substantially. In the above implementation, we might want to try out different tricks to improve model performance (like batch norm, dropout)\n",
        "\n",
        "3. At first, we only trained our model with 10000 images. For 32x32x3 sized images, this is relatively low. Including images from other batches showed an improvement in the fidelity of the output, and a reduction in the loss. This too, however, seems marginal.\n",
        "\n",
        "4. Additional non-compressive layers don't seem to help given the current dataset size constraints.\n",
        "\n",
        "5. Increasing model width (by way of increasing number of kernels per conv layer) led to a significant improvement in performance.\n"
      ],
      "metadata": {
        "id": "8m6u9QfViSBA"
      }
    },
    {
      "cell_type": "code",
      "execution_count": 206,
      "metadata": {
        "id": "EO56YHUP3ID6"
      },
      "outputs": [],
      "source": []
    }
  ],
  "metadata": {
    "colab": {
      "provenance": [],
      "gpuType": "T4",
      "include_colab_link": true
    },
    "kernelspec": {
      "display_name": "Python 3",
      "name": "python3"
    },
    "language_info": {
      "codemirror_mode": {
        "name": "ipython",
        "version": 3
      },
      "file_extension": ".py",
      "mimetype": "text/x-python",
      "name": "python",
      "nbconvert_exporter": "python",
      "pygments_lexer": "ipython3",
      "version": "3.10.14"
    },
    "accelerator": "GPU"
  },
  "nbformat": 4,
  "nbformat_minor": 0
}