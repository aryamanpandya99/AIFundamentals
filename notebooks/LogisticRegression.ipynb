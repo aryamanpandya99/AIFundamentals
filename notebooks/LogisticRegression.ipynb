{
  "cells": [
    {
      "cell_type": "code",
      "execution_count": null,
      "id": "460924af",
      "metadata": {
        "id": "460924af"
      },
      "outputs": [],
      "source": [
        "import numpy as np \n",
        "import matplotlib.pyplot as plt\n",
        "from keras.datasets import cifar10\n",
        "from keras.utils.np_utils import to_categorical"
      ]
    },
    {
      "cell_type": "code",
      "execution_count": null,
      "id": "25d2fe6b",
      "metadata": {
        "id": "25d2fe6b"
      },
      "outputs": [],
      "source": [
        "(x_train_full, y_train_full), (x_test_full, y_test_full) = cifar10.load_data()\n",
        "idx1 = np.where(y_train_full == 6)[0]\n",
        "idx1_test = np.where(y_test_full == 6)[0]"
      ]
    },
    {
      "cell_type": "code",
      "execution_count": null,
      "id": "a0226a6a",
      "metadata": {
        "id": "a0226a6a"
      },
      "outputs": [],
      "source": [
        "idx2 = np.where(y_train_full == 7)[0]\n",
        "idx2_test = np.where(y_test_full == 7)[0]"
      ]
    },
    {
      "cell_type": "code",
      "execution_count": null,
      "id": "42bf240e",
      "metadata": {
        "id": "42bf240e"
      },
      "outputs": [],
      "source": [
        "two_class_train_indices = np.append(idx1, idx2)\n",
        "two_class_test_indices = np.append(idx1_test, idx2_test)"
      ]
    },
    {
      "cell_type": "code",
      "execution_count": null,
      "id": "1c196ef0",
      "metadata": {
        "id": "1c196ef0"
      },
      "outputs": [],
      "source": [
        "two_class_train_indices = np.sort(two_class_train_indices)\n",
        "two_class_test_indices = np.sort(two_class_test_indices)"
      ]
    },
    {
      "cell_type": "code",
      "execution_count": null,
      "id": "702d97ff",
      "metadata": {
        "id": "702d97ff"
      },
      "outputs": [],
      "source": [
        "x_train = x_train_full[two_class_train_indices]/255\n",
        "y_train = y_train_full[two_class_train_indices]\n",
        "x_test = x_test_full[two_class_test_indices]/255\n",
        "y_test = y_test_full[two_class_test_indices]"
      ]
    },
    {
      "cell_type": "code",
      "execution_count": null,
      "id": "01299c5b",
      "metadata": {
        "id": "01299c5b",
        "outputId": "ca73c6e1-43fe-4c7a-9085-95b8eab48b70"
      },
      "outputs": [
        {
          "data": {
            "text/plain": [
              "(2000, 32, 32, 3)"
            ]
          },
          "execution_count": 200,
          "metadata": {},
          "output_type": "execute_result"
        }
      ],
      "source": [
        "x_test.shape"
      ]
    },
    {
      "cell_type": "code",
      "execution_count": null,
      "id": "5baf0f0a",
      "metadata": {
        "id": "5baf0f0a"
      },
      "outputs": [],
      "source": [
        "x_train = x_train.flatten().reshape(10000, 3072)\n",
        "x_test = x_test.flatten().reshape(2000, 3072)"
      ]
    },
    {
      "cell_type": "code",
      "execution_count": null,
      "id": "73922b75",
      "metadata": {
        "id": "73922b75"
      },
      "outputs": [],
      "source": [
        "y_train = np.where(y_train== 6, 0, y_train)\n",
        "y_train = np.where(y_train== 7, 1, y_train)"
      ]
    },
    {
      "cell_type": "code",
      "execution_count": null,
      "id": "54b60fe9",
      "metadata": {
        "id": "54b60fe9"
      },
      "outputs": [],
      "source": [
        "def sigmoid(z):\n",
        "    s = 1/(1 + np.exp(-z))\n",
        "    return s"
      ]
    },
    {
      "cell_type": "code",
      "execution_count": null,
      "id": "83ced09c",
      "metadata": {
        "id": "83ced09c"
      },
      "outputs": [],
      "source": [
        "nx = x_train.size // y_train.size\n",
        "m = y_train.size"
      ]
    },
    {
      "cell_type": "code",
      "execution_count": null,
      "id": "70766bca",
      "metadata": {
        "id": "70766bca"
      },
      "outputs": [],
      "source": [
        "alpha = 0.002 "
      ]
    },
    {
      "cell_type": "code",
      "execution_count": null,
      "id": "712a9848",
      "metadata": {
        "id": "712a9848"
      },
      "outputs": [],
      "source": [
        "def cost_function(y, y_hat):\n",
        "    return (- y @ np.log(y_hat.T) - (1 - y) @ np.log(1 - y_hat.T)) / m"
      ]
    },
    {
      "cell_type": "code",
      "execution_count": null,
      "id": "3977bfc3",
      "metadata": {
        "id": "3977bfc3"
      },
      "outputs": [],
      "source": [
        "def fit(x, w, b):\n",
        "    z = w.T @ x + b\n",
        "    y_hat = sigmoid(z)\n",
        "    return z, y_hathttps://colab.research.google.com/drive/1cHy8FtX5i2jyZEfuxJTYRPSJLm1jMwq8"
      ]
    },
    {
      "cell_type": "code",
      "execution_count": null,
      "id": "244a359e",
      "metadata": {
        "id": "244a359e"
      },
      "outputs": [],
      "source": [
        "def accuracy(y, y_hat):\n",
        "    return 1 - np.mean(np.abs(y - y_hat.round()))"
      ]
    },
    {
      "cell_type": "code",
      "execution_count": null,
      "id": "1868915d",
      "metadata": {
        "id": "1868915d"
      },
      "outputs": [],
      "source": [
        "def propagate(nx, m, w, b, x, y, iteration):\n",
        "        z, y_hat = fit(x, w, b)\n",
        "        #print(y_hat)\n",
        "        #print(y)\n",
        "        w -= alpha / m * (x @ (y_hat - y).T)\n",
        "        b -= alpha / m * np.sum(y_hat - y)\n",
        "        k = np.squeeze(cost_function(y, y_hat))\n",
        "        return float(k), accuracy(y, y_hat), w, b\n",
        "    \n",
        "def train(nx, m, x, y, max_it=1000):\n",
        "    w, b = np.zeros((nx,1)), 0\n",
        "    accuracy_array = []\n",
        "    error_array = np.empty(1000)\n",
        "    for it in range(max_it):\n",
        "        error, accuracy_metric, w, b = propagate(nx, m, w, b, x, y, it)\n",
        "        accuracy_array.append(accuracy_metric)\n",
        "        error_array[it] = error\n",
        "    return error_array, accuracy_array, w, b"
      ]
    },
    {
      "cell_type": "code",
      "execution_count": null,
      "id": "522e1964",
      "metadata": {
        "id": "522e1964"
      },
      "outputs": [],
      "source": [
        "x_train = x_train.T"
      ]
    },
    {
      "cell_type": "code",
      "execution_count": null,
      "id": "6db06dd2",
      "metadata": {
        "id": "6db06dd2",
        "outputId": "849f6823-0f63-4e66-8f60-2cc478c6e71c"
      },
      "outputs": [
        {
          "data": {
            "text/plain": [
              "(3072, 10000)"
            ]
          },
          "execution_count": 293,
          "metadata": {},
          "output_type": "execute_result"
        }
      ],
      "source": [
        "x_train.shape"
      ]
    },
    {
      "cell_type": "code",
      "execution_count": null,
      "id": "f23ef9b7",
      "metadata": {
        "id": "f23ef9b7"
      },
      "outputs": [],
      "source": [
        "X, Y = x_train.reshape((nx, m)), y_train.reshape((1, m))\n",
        "error_vals, accuracy_vals, W, b = train(nx, m,X, Y)\n",
        "iteration_number = []\n",
        "for i in range(1000):\n",
        "    iteration_number.append(i)"
      ]
    },
    {
      "cell_type": "code",
      "execution_count": null,
      "id": "65dab4e6",
      "metadata": {
        "id": "65dab4e6",
        "outputId": "1d25bf4a-85ad-4770-bee8-781595020feb"
      },
      "outputs": [
        {
          "data": {
            "text/plain": [
              "[<matplotlib.lines.Line2D at 0x7fa3b80a34f0>]"
            ]
          },
          "execution_count": 324,
          "metadata": {},
          "output_type": "execute_result"
        },
        {
          "data": {
            "image/png": "[encoded data removed]",
            "text/plain": [
              "<Figure size 432x288 with 1 Axes>"
            ]
          },
          "metadata": {
            "needs_background": "light"
          },
          "output_type": "display_data"
        },
        {
          "data": {
            "image/png": "[encoded data removed]",
            "text/plain": [
              "<Figure size 432x288 with 1 Axes>"
            ]
          },
          "metadata": {
            "needs_background": "light"
          },
          "output_type": "display_data"
        }
      ],
      "source": [
        "fig1, ax1 = plt.subplots()\n",
        "ax1.plot(iteration_number, accuracy_vals)\n",
        "ax1.set_ylabel('Accuracy')\n",
        "ax1.set_xlabel('Iteration #')\n",
        "\n",
        "error_plot = np.absolute(error_vals)\n",
        "fig2, ax2 = plt.subplots()\n",
        "ax2.set_ylabel('Error')\n",
        "ax2.set_xlabel('Iteration')\n",
        "ax2.plot(iteration_number, error_plot)"
      ]
    },
    {
      "cell_type": "code",
      "execution_count": null,
      "id": "063eeaa4",
      "metadata": {
        "id": "063eeaa4",
        "outputId": "60129707-d426-43c3-fd99-ec35200e3e7d"
      },
      "outputs": [
        {
          "data": {
            "text/plain": [
              "2000"
            ]
          },
          "execution_count": 328,
          "metadata": {},
          "output_type": "execute_result"
        }
      ],
      "source": [
        "m = len(y_test)\n",
        "m"
      ]
    },
    {
      "cell_type": "code",
      "execution_count": null,
      "id": "296a0e49",
      "metadata": {
        "id": "296a0e49"
      },
      "outputs": [],
      "source": [
        "nx = x_test.size // m"
      ]
    },
    {
      "cell_type": "code",
      "execution_count": null,
      "id": "628bfcc7",
      "metadata": {
        "id": "628bfcc7"
      },
      "outputs": [],
      "source": [
        "y_test = np.where(y_test== 6, 0, y_test)\n",
        "y_test = np.where(y_test== 7, 1, y_test)"
      ]
    },
    {
      "cell_type": "code",
      "execution_count": null,
      "id": "d4e7a8ca",
      "metadata": {
        "id": "d4e7a8ca"
      },
      "outputs": [],
      "source": [
        "X, Y = x_test.reshape((nx, m)), y_test.reshape((1,m))\n",
        "\n",
        "z, y_hat = fit(X, W, b)"
      ]
    },
    {
      "cell_type": "code",
      "execution_count": null,
      "id": "7491daa4",
      "metadata": {
        "id": "7491daa4",
        "outputId": "16b5b681-4716-4342-824e-17504f9c2b5e"
      },
      "outputs": [
        {
          "data": {
            "text/plain": [
              "array([[0, 0, 0, ..., 1, 1, 1]], dtype=uint8)"
            ]
          },
          "execution_count": 340,
          "metadata": {},
          "output_type": "execute_result"
        }
      ],
      "source": [
        "Y"
      ]
    },
    {
      "cell_type": "code",
      "execution_count": null,
      "id": "d15f8020",
      "metadata": {
        "id": "d15f8020",
        "outputId": "f41632e1-8ba7-4ef6-8968-8318975522eb"
      },
      "outputs": [
        {
          "name": "stdout",
          "output_type": "stream",
          "text": [
            "test accuracy = 50.3%\n"
          ]
        }
      ],
      "source": [
        "print('test accuracy = {}%'.format(accuracy(Y, y_hat) * 100))"
      ]
    }
  ],
  "metadata": {
    "kernelspec": {
      "display_name": "Python 3 (ipykernel)",
      "language": "python",
      "name": "python3"
    },
    "language_info": {
      "codemirror_mode": {
        "name": "ipython",
        "version": 3
      },
      "file_extension": ".py",
      "mimetype": "text/x-python",
      "name": "python",
      "nbconvert_exporter": "python",
      "pygments_lexer": "ipython3",
      "version": "3.9.7"
    },
    "colab": {
      "provenance": []
    }
  },
  "nbformat": 4,
  "nbformat_minor": 5
}